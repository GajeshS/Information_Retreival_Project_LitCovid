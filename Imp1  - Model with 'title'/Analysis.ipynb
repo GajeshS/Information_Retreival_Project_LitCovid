{
 "cells": [
  {
   "cell_type": "code",
   "execution_count": 1,
   "metadata": {},
   "outputs": [],
   "source": [
    "import numpy as np\n",
    "import pandas as pd\n",
    "from simpletransformers.classification import MultiLabelClassificationModel, MultiLabelClassificationArgs"
   ]
  },
  {
   "cell_type": "code",
   "execution_count": 2,
   "metadata": {},
   "outputs": [],
   "source": [
    "from sklearn.model_selection import train_test_split\n",
    "from sklearn.preprocessing import MultiLabelBinarizer\n",
    "from sklearn.metrics import f1_score"
   ]
  },
  {
   "cell_type": "code",
   "execution_count": 3,
   "metadata": {},
   "outputs": [],
   "source": [
    "train_data = pd.read_csv('BC7-LitCovid-Train.csv')"
   ]
  },
  {
   "cell_type": "code",
   "execution_count": 4,
   "metadata": {},
   "outputs": [
    {
     "data": {
      "text/html": [
       "<div>\n",
       "<style scoped>\n",
       "    .dataframe tbody tr th:only-of-type {\n",
       "        vertical-align: middle;\n",
       "    }\n",
       "\n",
       "    .dataframe tbody tr th {\n",
       "        vertical-align: top;\n",
       "    }\n",
       "\n",
       "    .dataframe thead th {\n",
       "        text-align: right;\n",
       "    }\n",
       "</style>\n",
       "<table border=\"1\" class=\"dataframe\">\n",
       "  <thead>\n",
       "    <tr style=\"text-align: right;\">\n",
       "      <th></th>\n",
       "      <th>pmid</th>\n",
       "      <th>journal</th>\n",
       "      <th>title</th>\n",
       "      <th>abstract</th>\n",
       "      <th>keywords</th>\n",
       "      <th>pub_type</th>\n",
       "      <th>authors</th>\n",
       "      <th>doi</th>\n",
       "      <th>label</th>\n",
       "    </tr>\n",
       "  </thead>\n",
       "  <tbody>\n",
       "    <tr>\n",
       "      <th>0</th>\n",
       "      <td>32519164</td>\n",
       "      <td>J Thromb Thrombolysis</td>\n",
       "      <td>Potential role for tissue factor in the pathog...</td>\n",
       "      <td>In December 2019, a new and highly contagious ...</td>\n",
       "      <td>covid-19;il-6;sars-cov-2;tnf-alpha;thrombosis;...</td>\n",
       "      <td>Journal Article;Review</td>\n",
       "      <td>Bautista-Vargas, Mario;Bonilla-Abadia, Fabio;C...</td>\n",
       "      <td>10.1007/s11239-020-02172-x</td>\n",
       "      <td>Treatment;Mechanism</td>\n",
       "    </tr>\n",
       "    <tr>\n",
       "      <th>1</th>\n",
       "      <td>32691006</td>\n",
       "      <td>J Tradit Complement Med</td>\n",
       "      <td>Dietary therapy and herbal medicine for COVID-...</td>\n",
       "      <td>A novel coronavirus disease (COVID-19), transm...</td>\n",
       "      <td>covid-19;coronavirus;dietary therapy;herbal me...</td>\n",
       "      <td>Journal Article;Review</td>\n",
       "      <td>Panyod, Suraphan;Ho, Chi-Tang;Sheen, Lee-Yan</td>\n",
       "      <td>10.1016/j.jtcme.2020.05.004</td>\n",
       "      <td>Treatment;Prevention</td>\n",
       "    </tr>\n",
       "    <tr>\n",
       "      <th>2</th>\n",
       "      <td>32858315</td>\n",
       "      <td>J Affect Disord</td>\n",
       "      <td>First report of manic-like symptoms in a COVID...</td>\n",
       "      <td>BACKGROUND: In December 2019, the novel corona...</td>\n",
       "      <td>cerebrospinal fluid;igg;manic-like symptoms;sa...</td>\n",
       "      <td>Case Reports;Journal Article</td>\n",
       "      <td>Lu, Shaojia;Wei, Ning;Jiang, Jiajun;Wu, Lingli...</td>\n",
       "      <td>10.1016/j.jad.2020.08.031</td>\n",
       "      <td>Case Report</td>\n",
       "    </tr>\n",
       "    <tr>\n",
       "      <th>3</th>\n",
       "      <td>32985329</td>\n",
       "      <td>J Dent Res</td>\n",
       "      <td>Epidemiological Investigation of OHCWs with CO...</td>\n",
       "      <td>During the coronavirus disease 2019 (COVID-19)...</td>\n",
       "      <td>dental education;dental public health;infectio...</td>\n",
       "      <td>Journal Article;Research Support, Non-U.S. Gov't</td>\n",
       "      <td>Meng, L;Ma, B;Cheng, Y;Bian, Z</td>\n",
       "      <td>10.1177/0022034520962087</td>\n",
       "      <td>Prevention</td>\n",
       "    </tr>\n",
       "    <tr>\n",
       "      <th>4</th>\n",
       "      <td>32812051</td>\n",
       "      <td>J Antimicrob Chemother</td>\n",
       "      <td>The impact of sofosbuvir/daclatasvir or ribavi...</td>\n",
       "      <td>OBJECTIVES: Sofosbuvir and daclatasvir are dir...</td>\n",
       "      <td>NaN</td>\n",
       "      <td>Journal Article;Randomized Controlled Trial;Re...</td>\n",
       "      <td>Eslami, Gholamali;Mousaviasl, Sajedeh;Radmanes...</td>\n",
       "      <td>10.1093/jac/dkaa331</td>\n",
       "      <td>Treatment</td>\n",
       "    </tr>\n",
       "  </tbody>\n",
       "</table>\n",
       "</div>"
      ],
      "text/plain": [
       "       pmid                  journal  \\\n",
       "0  32519164    J Thromb Thrombolysis   \n",
       "1  32691006  J Tradit Complement Med   \n",
       "2  32858315          J Affect Disord   \n",
       "3  32985329               J Dent Res   \n",
       "4  32812051   J Antimicrob Chemother   \n",
       "\n",
       "                                               title  \\\n",
       "0  Potential role for tissue factor in the pathog...   \n",
       "1  Dietary therapy and herbal medicine for COVID-...   \n",
       "2  First report of manic-like symptoms in a COVID...   \n",
       "3  Epidemiological Investigation of OHCWs with CO...   \n",
       "4  The impact of sofosbuvir/daclatasvir or ribavi...   \n",
       "\n",
       "                                            abstract  \\\n",
       "0  In December 2019, a new and highly contagious ...   \n",
       "1  A novel coronavirus disease (COVID-19), transm...   \n",
       "2  BACKGROUND: In December 2019, the novel corona...   \n",
       "3  During the coronavirus disease 2019 (COVID-19)...   \n",
       "4  OBJECTIVES: Sofosbuvir and daclatasvir are dir...   \n",
       "\n",
       "                                            keywords  \\\n",
       "0  covid-19;il-6;sars-cov-2;tnf-alpha;thrombosis;...   \n",
       "1  covid-19;coronavirus;dietary therapy;herbal me...   \n",
       "2  cerebrospinal fluid;igg;manic-like symptoms;sa...   \n",
       "3  dental education;dental public health;infectio...   \n",
       "4                                                NaN   \n",
       "\n",
       "                                            pub_type  \\\n",
       "0                             Journal Article;Review   \n",
       "1                             Journal Article;Review   \n",
       "2                       Case Reports;Journal Article   \n",
       "3   Journal Article;Research Support, Non-U.S. Gov't   \n",
       "4  Journal Article;Randomized Controlled Trial;Re...   \n",
       "\n",
       "                                             authors  \\\n",
       "0  Bautista-Vargas, Mario;Bonilla-Abadia, Fabio;C...   \n",
       "1       Panyod, Suraphan;Ho, Chi-Tang;Sheen, Lee-Yan   \n",
       "2  Lu, Shaojia;Wei, Ning;Jiang, Jiajun;Wu, Lingli...   \n",
       "3                     Meng, L;Ma, B;Cheng, Y;Bian, Z   \n",
       "4  Eslami, Gholamali;Mousaviasl, Sajedeh;Radmanes...   \n",
       "\n",
       "                           doi                 label  \n",
       "0   10.1007/s11239-020-02172-x   Treatment;Mechanism  \n",
       "1  10.1016/j.jtcme.2020.05.004  Treatment;Prevention  \n",
       "2    10.1016/j.jad.2020.08.031           Case Report  \n",
       "3     10.1177/0022034520962087            Prevention  \n",
       "4          10.1093/jac/dkaa331             Treatment  "
      ]
     },
     "execution_count": 4,
     "metadata": {},
     "output_type": "execute_result"
    }
   ],
   "source": [
    "train_data.head()"
   ]
  },
  {
   "cell_type": "code",
   "execution_count": 5,
   "metadata": {},
   "outputs": [
    {
     "data": {
      "text/plain": [
       "(24960, 9)"
      ]
     },
     "execution_count": 5,
     "metadata": {},
     "output_type": "execute_result"
    }
   ],
   "source": [
    "train_data.shape"
   ]
  },
  {
   "cell_type": "code",
   "execution_count": 24,
   "metadata": {},
   "outputs": [],
   "source": [
    "processed_train_data = pd.DataFrame()\n",
    "def split_semicolon(string):\n",
    "    return str(string).split(';')\n",
    "\n",
    "processed_train_data['labels']=train_data['label'].apply(split_semicolon)\n",
    "# processed_train_data['text']=train_data['abstract']"
   ]
  },
  {
   "cell_type": "code",
   "execution_count": 25,
   "metadata": {},
   "outputs": [],
   "source": [
    "for i in range(len(train_data)):\n",
    "    s = '[CLS]'+train_data.loc[i,'title']+'[SEP]'+train_data.loc[i,'abstract']\n",
    "    processed_train_data.loc[i,'text'] = s\n",
    "    processed_train_data.loc[i,'len'] = len(s.split())"
   ]
  },
  {
   "cell_type": "code",
   "execution_count": 27,
   "metadata": {},
   "outputs": [
    {
     "data": {
      "text/plain": [
       "163"
      ]
     },
     "execution_count": 27,
     "metadata": {},
     "output_type": "execute_result"
    }
   ],
   "source": [
    "np.count_nonzero(processed_train_data['len'] >= 512)"
   ]
  },
  {
   "cell_type": "code",
   "execution_count": 28,
   "metadata": {},
   "outputs": [
    {
     "name": "stdout",
     "output_type": "stream",
     "text": [
      "(24960, 7)\n",
      "['Case Report' 'Diagnosis' 'Epidemic Forecasting' 'Mechanism' 'Prevention'\n",
      " 'Transmission' 'Treatment']\n"
     ]
    }
   ],
   "source": [
    "label_mlb = MultiLabelBinarizer()\n",
    "label_mle = label_mlb.fit_transform(processed_train_data['labels'])\n",
    "print(label_mle.shape)\n",
    "print(label_mlb.classes_)"
   ]
  },
  {
   "cell_type": "code",
   "execution_count": 29,
   "metadata": {},
   "outputs": [
    {
     "data": {
      "text/plain": [
       "array([ 2063,  6193,   645,  4438, 11102,  1088,  8717])"
      ]
     },
     "execution_count": 29,
     "metadata": {},
     "output_type": "execute_result"
    }
   ],
   "source": [
    "label_mle.sum(axis=0)"
   ]
  },
  {
   "cell_type": "code",
   "execution_count": 30,
   "metadata": {},
   "outputs": [
    {
     "data": {
      "text/html": [
       "<div>\n",
       "<style scoped>\n",
       "    .dataframe tbody tr th:only-of-type {\n",
       "        vertical-align: middle;\n",
       "    }\n",
       "\n",
       "    .dataframe tbody tr th {\n",
       "        vertical-align: top;\n",
       "    }\n",
       "\n",
       "    .dataframe thead th {\n",
       "        text-align: right;\n",
       "    }\n",
       "</style>\n",
       "<table border=\"1\" class=\"dataframe\">\n",
       "  <thead>\n",
       "    <tr style=\"text-align: right;\">\n",
       "      <th></th>\n",
       "      <th>labels</th>\n",
       "      <th>text</th>\n",
       "      <th>len</th>\n",
       "    </tr>\n",
       "  </thead>\n",
       "  <tbody>\n",
       "    <tr>\n",
       "      <th>0</th>\n",
       "      <td>[0, 0, 0, 1, 0, 0, 1]</td>\n",
       "      <td>[CLS]Potential role for tissue factor in the p...</td>\n",
       "      <td>169.0</td>\n",
       "    </tr>\n",
       "    <tr>\n",
       "      <th>1</th>\n",
       "      <td>[0, 0, 0, 0, 1, 0, 1]</td>\n",
       "      <td>[CLS]Dietary therapy and herbal medicine for C...</td>\n",
       "      <td>198.0</td>\n",
       "    </tr>\n",
       "    <tr>\n",
       "      <th>2</th>\n",
       "      <td>[1, 0, 0, 0, 0, 0, 0]</td>\n",
       "      <td>[CLS]First report of manic-like symptoms in a ...</td>\n",
       "      <td>243.0</td>\n",
       "    </tr>\n",
       "    <tr>\n",
       "      <th>3</th>\n",
       "      <td>[0, 0, 0, 0, 1, 0, 0]</td>\n",
       "      <td>[CLS]Epidemiological Investigation of OHCWs wi...</td>\n",
       "      <td>305.0</td>\n",
       "    </tr>\n",
       "    <tr>\n",
       "      <th>4</th>\n",
       "      <td>[0, 0, 0, 0, 0, 0, 1]</td>\n",
       "      <td>[CLS]The impact of sofosbuvir/daclatasvir or r...</td>\n",
       "      <td>256.0</td>\n",
       "    </tr>\n",
       "  </tbody>\n",
       "</table>\n",
       "</div>"
      ],
      "text/plain": [
       "                  labels                                               text  \\\n",
       "0  [0, 0, 0, 1, 0, 0, 1]  [CLS]Potential role for tissue factor in the p...   \n",
       "1  [0, 0, 0, 0, 1, 0, 1]  [CLS]Dietary therapy and herbal medicine for C...   \n",
       "2  [1, 0, 0, 0, 0, 0, 0]  [CLS]First report of manic-like symptoms in a ...   \n",
       "3  [0, 0, 0, 0, 1, 0, 0]  [CLS]Epidemiological Investigation of OHCWs wi...   \n",
       "4  [0, 0, 0, 0, 0, 0, 1]  [CLS]The impact of sofosbuvir/daclatasvir or r...   \n",
       "\n",
       "     len  \n",
       "0  169.0  \n",
       "1  198.0  \n",
       "2  243.0  \n",
       "3  305.0  \n",
       "4  256.0  "
      ]
     },
     "execution_count": 30,
     "metadata": {},
     "output_type": "execute_result"
    }
   ],
   "source": [
    "processed_train_data['labels'] = label_mle.tolist()\n",
    "processed_train_data.head()"
   ]
  },
  {
   "cell_type": "code",
   "execution_count": 31,
   "metadata": {},
   "outputs": [],
   "source": [
    "X_train, X_test, Y_train, Y_test = train_test_split(processed_train_data['text'], processed_train_data['labels'],test_size=1000)"
   ]
  },
  {
   "cell_type": "code",
   "execution_count": 32,
   "metadata": {},
   "outputs": [
    {
     "data": {
      "text/html": [
       "<div>\n",
       "<style scoped>\n",
       "    .dataframe tbody tr th:only-of-type {\n",
       "        vertical-align: middle;\n",
       "    }\n",
       "\n",
       "    .dataframe tbody tr th {\n",
       "        vertical-align: top;\n",
       "    }\n",
       "\n",
       "    .dataframe thead th {\n",
       "        text-align: right;\n",
       "    }\n",
       "</style>\n",
       "<table border=\"1\" class=\"dataframe\">\n",
       "  <thead>\n",
       "    <tr style=\"text-align: right;\">\n",
       "      <th></th>\n",
       "      <th>text</th>\n",
       "      <th>labels</th>\n",
       "    </tr>\n",
       "  </thead>\n",
       "  <tbody>\n",
       "    <tr>\n",
       "      <th>14703</th>\n",
       "      <td>[CLS]Zoonotic and reverse zoonotic events of S...</td>\n",
       "      <td>[0, 0, 0, 0, 1, 1, 0]</td>\n",
       "    </tr>\n",
       "    <tr>\n",
       "      <th>7355</th>\n",
       "      <td>[CLS]Challenges of SARS-CoV-2 and lessons lear...</td>\n",
       "      <td>[0, 0, 0, 0, 1, 0, 0]</td>\n",
       "    </tr>\n",
       "    <tr>\n",
       "      <th>23159</th>\n",
       "      <td>[CLS]Risk of SARS-CoV-2 infection among contac...</td>\n",
       "      <td>[0, 0, 0, 0, 1, 1, 0]</td>\n",
       "    </tr>\n",
       "    <tr>\n",
       "      <th>23180</th>\n",
       "      <td>[CLS]Operational Considerations for Physical T...</td>\n",
       "      <td>[0, 0, 0, 0, 1, 0, 0]</td>\n",
       "    </tr>\n",
       "    <tr>\n",
       "      <th>1674</th>\n",
       "      <td>[CLS]Acidic electrolyzed water potently inacti...</td>\n",
       "      <td>[0, 0, 0, 0, 1, 0, 0]</td>\n",
       "    </tr>\n",
       "  </tbody>\n",
       "</table>\n",
       "</div>"
      ],
      "text/plain": [
       "                                                    text  \\\n",
       "14703  [CLS]Zoonotic and reverse zoonotic events of S...   \n",
       "7355   [CLS]Challenges of SARS-CoV-2 and lessons lear...   \n",
       "23159  [CLS]Risk of SARS-CoV-2 infection among contac...   \n",
       "23180  [CLS]Operational Considerations for Physical T...   \n",
       "1674   [CLS]Acidic electrolyzed water potently inacti...   \n",
       "\n",
       "                      labels  \n",
       "14703  [0, 0, 0, 0, 1, 1, 0]  \n",
       "7355   [0, 0, 0, 0, 1, 0, 0]  \n",
       "23159  [0, 0, 0, 0, 1, 1, 0]  \n",
       "23180  [0, 0, 0, 0, 1, 0, 0]  \n",
       "1674   [0, 0, 0, 0, 1, 0, 0]  "
      ]
     },
     "execution_count": 32,
     "metadata": {},
     "output_type": "execute_result"
    }
   ],
   "source": [
    "train = pd.DataFrame()\n",
    "train['text'] = X_train\n",
    "train['labels'] = Y_train\n",
    "\n",
    "test = pd.DataFrame()\n",
    "test['text'] = X_test\n",
    "test['labels'] = Y_test\n",
    "\n",
    "train.head()"
   ]
  },
  {
   "cell_type": "code",
   "execution_count": 14,
   "metadata": {},
   "outputs": [],
   "source": [
    "# train.to_csv('train_data.csv')\n",
    "# test.to_csv('test_data.csv')"
   ]
  },
  {
   "cell_type": "code",
   "execution_count": 33,
   "metadata": {},
   "outputs": [],
   "source": [
    "from sklearn.metrics import accuracy_score"
   ]
  },
  {
   "cell_type": "code",
   "execution_count": 34,
   "metadata": {},
   "outputs": [],
   "source": [
    "def weighted_f1(labels, preds, threshold=0.5):\n",
    "  \"\"\" Converts probabilities to labels using the [threshold] and calculates metrics. \n",
    "  Parameters ---------- labels preds threshold \n",
    "  Returns ------- \"\"\" \n",
    "  preds[preds > threshold] = 1\n",
    "  preds[preds <= threshold] = 0 \n",
    "\n",
    "  scores = f1_score(labels, preds, average='weighted') \n",
    "\n",
    "  #print(\"Scores: \" ,scores)\n",
    "  return scores"
   ]
  },
  {
   "cell_type": "code",
   "execution_count": 35,
   "metadata": {},
   "outputs": [],
   "source": [
    "model_args = MultiLabelClassificationArgs(\n",
    "    num_train_epochs=2,\n",
    "    evaluate_each_epoch=True,\n",
    "    overwrite_output_dir= True,\n",
    "    # evaluate_during_training=True,\n",
    "    # save_model_every_epoch = True\n",
    ")"
   ]
  },
  {
   "cell_type": "code",
   "execution_count": 36,
   "metadata": {},
   "outputs": [
    {
     "name": "stderr",
     "output_type": "stream",
     "text": [
      "Some weights of the model checkpoint at bert-base-uncased were not used when initializing BertForMultiLabelSequenceClassification: ['cls.predictions.transform.dense.weight', 'cls.seq_relationship.bias', 'cls.predictions.bias', 'cls.predictions.transform.LayerNorm.bias', 'cls.seq_relationship.weight', 'cls.predictions.decoder.weight', 'cls.predictions.transform.dense.bias', 'cls.predictions.transform.LayerNorm.weight']\n",
      "- This IS expected if you are initializing BertForMultiLabelSequenceClassification from the checkpoint of a model trained on another task or with another architecture (e.g. initializing a BertForSequenceClassification model from a BertForPreTraining model).\n",
      "- This IS NOT expected if you are initializing BertForMultiLabelSequenceClassification from the checkpoint of a model that you expect to be exactly identical (initializing a BertForSequenceClassification model from a BertForSequenceClassification model).\n",
      "Some weights of BertForMultiLabelSequenceClassification were not initialized from the model checkpoint at bert-base-uncased and are newly initialized: ['classifier.weight', 'classifier.bias']\n",
      "You should probably TRAIN this model on a down-stream task to be able to use it for predictions and inference.\n"
     ]
    }
   ],
   "source": [
    "model = MultiLabelClassificationModel(\n",
    "    \"bert\",\n",
    "    \"bert-base-uncased\",\n",
    "    num_labels=7,\n",
    "    use_cuda=False,\n",
    "    args=model_args\n",
    ")"
   ]
  },
  {
   "cell_type": "code",
   "execution_count": 37,
   "metadata": {},
   "outputs": [],
   "source": [
    "# temp_train = train.iloc[:10,:]\n",
    "# temp_test = test.iloc[:10,:]"
   ]
  },
  {
   "cell_type": "code",
   "execution_count": 38,
   "metadata": {},
   "outputs": [
    {
     "name": "stderr",
     "output_type": "stream",
     "text": [
      " 10%|█         | 1/10 [00:06<00:55,  6.20s/it]\n",
      "Epochs 0/2. Running Loss:    0.6668: 100%|██████████| 2/2 [00:07<00:00,  3.53s/it]\n",
      "Epochs 1/2. Running Loss:    0.6229: 100%|██████████| 2/2 [00:07<00:00,  3.59s/it]\n",
      "Epoch 2 of 2: 100%|██████████| 2/2 [00:42<00:00, 21.35s/it]\n"
     ]
    },
    {
     "data": {
      "text/plain": [
       "(4, 0.649782195687294)"
      ]
     },
     "execution_count": 38,
     "metadata": {},
     "output_type": "execute_result"
    }
   ],
   "source": [
    "model.train_model(train, eval_df = test)"
   ]
  },
  {
   "cell_type": "code",
   "execution_count": 39,
   "metadata": {},
   "outputs": [
    {
     "name": "stderr",
     "output_type": "stream",
     "text": [
      " 10%|█         | 1/10 [00:05<00:46,  5.21s/it]\n",
      "Running Evaluation: 100%|██████████| 2/2 [00:01<00:00,  1.11it/s]\n",
      "C:\\Users\\aman\\miniconda3\\envs\\py-cpu\\lib\\site-packages\\sklearn\\metrics\\_classification.py:1570: UndefinedMetricWarning: F-score is ill-defined and being set to 0.0 in labels with no true nor predicted samples. Use `zero_division` parameter to control this behavior.\n",
      "  _warn_prf(average, \"true nor predicted\", \"F-score is\", len(true_sum))\n"
     ]
    }
   ],
   "source": [
    "result, model_outputs, wrong_predictions = model.eval_model(test,f1=weighted_f1)"
   ]
  },
  {
   "cell_type": "code",
   "execution_count": null,
   "metadata": {},
   "outputs": [],
   "source": []
  }
 ],
 "metadata": {
  "interpreter": {
   "hash": "1a06639d554e1dc9dc381e887ef37ca4c19237795132bbfe443d6b71ab736acb"
  },
  "kernelspec": {
   "display_name": "Python 3.9.7 64-bit ('py-cpu': conda)",
   "name": "python3"
  },
  "language_info": {
   "codemirror_mode": {
    "name": "ipython",
    "version": 3
   },
   "file_extension": ".py",
   "mimetype": "text/x-python",
   "name": "python",
   "nbconvert_exporter": "python",
   "pygments_lexer": "ipython3",
   "version": "3.9.7"
  },
  "orig_nbformat": 4
 },
 "nbformat": 4,
 "nbformat_minor": 2
}
