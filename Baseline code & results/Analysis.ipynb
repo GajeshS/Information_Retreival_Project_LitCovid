{
 "cells": [
  {
   "cell_type": "code",
   "execution_count": 1,
   "metadata": {},
   "outputs": [],
   "source": [
    "import numpy as np\n",
    "import pandas as pd\n",
    "from simpletransformers.classification import MultiLabelClassificationModel, MultiLabelClassificationArgs"
   ]
  },
  {
   "cell_type": "code",
   "execution_count": 2,
   "metadata": {},
   "outputs": [],
   "source": [
    "from sklearn.model_selection import train_test_split\n",
    "from sklearn.preprocessing import MultiLabelBinarizer\n",
    "from sklearn.metrics import f1_score"
   ]
  },
  {
   "cell_type": "code",
   "execution_count": 3,
   "metadata": {},
   "outputs": [],
   "source": [
    "train_data = pd.read_csv('BC7-LitCovid-Train.csv')"
   ]
  },
  {
   "cell_type": "code",
   "execution_count": 4,
   "metadata": {},
   "outputs": [
    {
     "data": {
      "text/html": [
       "<div>\n",
       "<style scoped>\n",
       "    .dataframe tbody tr th:only-of-type {\n",
       "        vertical-align: middle;\n",
       "    }\n",
       "\n",
       "    .dataframe tbody tr th {\n",
       "        vertical-align: top;\n",
       "    }\n",
       "\n",
       "    .dataframe thead th {\n",
       "        text-align: right;\n",
       "    }\n",
       "</style>\n",
       "<table border=\"1\" class=\"dataframe\">\n",
       "  <thead>\n",
       "    <tr style=\"text-align: right;\">\n",
       "      <th></th>\n",
       "      <th>pmid</th>\n",
       "      <th>journal</th>\n",
       "      <th>title</th>\n",
       "      <th>abstract</th>\n",
       "      <th>keywords</th>\n",
       "      <th>pub_type</th>\n",
       "      <th>authors</th>\n",
       "      <th>doi</th>\n",
       "      <th>label</th>\n",
       "    </tr>\n",
       "  </thead>\n",
       "  <tbody>\n",
       "    <tr>\n",
       "      <th>0</th>\n",
       "      <td>32519164</td>\n",
       "      <td>J Thromb Thrombolysis</td>\n",
       "      <td>Potential role for tissue factor in the pathog...</td>\n",
       "      <td>In December 2019, a new and highly contagious ...</td>\n",
       "      <td>covid-19;il-6;sars-cov-2;tnf-alpha;thrombosis;...</td>\n",
       "      <td>Journal Article;Review</td>\n",
       "      <td>Bautista-Vargas, Mario;Bonilla-Abadia, Fabio;C...</td>\n",
       "      <td>10.1007/s11239-020-02172-x</td>\n",
       "      <td>Treatment;Mechanism</td>\n",
       "    </tr>\n",
       "    <tr>\n",
       "      <th>1</th>\n",
       "      <td>32691006</td>\n",
       "      <td>J Tradit Complement Med</td>\n",
       "      <td>Dietary therapy and herbal medicine for COVID-...</td>\n",
       "      <td>A novel coronavirus disease (COVID-19), transm...</td>\n",
       "      <td>covid-19;coronavirus;dietary therapy;herbal me...</td>\n",
       "      <td>Journal Article;Review</td>\n",
       "      <td>Panyod, Suraphan;Ho, Chi-Tang;Sheen, Lee-Yan</td>\n",
       "      <td>10.1016/j.jtcme.2020.05.004</td>\n",
       "      <td>Treatment;Prevention</td>\n",
       "    </tr>\n",
       "    <tr>\n",
       "      <th>2</th>\n",
       "      <td>32858315</td>\n",
       "      <td>J Affect Disord</td>\n",
       "      <td>First report of manic-like symptoms in a COVID...</td>\n",
       "      <td>BACKGROUND: In December 2019, the novel corona...</td>\n",
       "      <td>cerebrospinal fluid;igg;manic-like symptoms;sa...</td>\n",
       "      <td>Case Reports;Journal Article</td>\n",
       "      <td>Lu, Shaojia;Wei, Ning;Jiang, Jiajun;Wu, Lingli...</td>\n",
       "      <td>10.1016/j.jad.2020.08.031</td>\n",
       "      <td>Case Report</td>\n",
       "    </tr>\n",
       "    <tr>\n",
       "      <th>3</th>\n",
       "      <td>32985329</td>\n",
       "      <td>J Dent Res</td>\n",
       "      <td>Epidemiological Investigation of OHCWs with CO...</td>\n",
       "      <td>During the coronavirus disease 2019 (COVID-19)...</td>\n",
       "      <td>dental education;dental public health;infectio...</td>\n",
       "      <td>Journal Article;Research Support, Non-U.S. Gov't</td>\n",
       "      <td>Meng, L;Ma, B;Cheng, Y;Bian, Z</td>\n",
       "      <td>10.1177/0022034520962087</td>\n",
       "      <td>Prevention</td>\n",
       "    </tr>\n",
       "    <tr>\n",
       "      <th>4</th>\n",
       "      <td>32812051</td>\n",
       "      <td>J Antimicrob Chemother</td>\n",
       "      <td>The impact of sofosbuvir/daclatasvir or ribavi...</td>\n",
       "      <td>OBJECTIVES: Sofosbuvir and daclatasvir are dir...</td>\n",
       "      <td>NaN</td>\n",
       "      <td>Journal Article;Randomized Controlled Trial;Re...</td>\n",
       "      <td>Eslami, Gholamali;Mousaviasl, Sajedeh;Radmanes...</td>\n",
       "      <td>10.1093/jac/dkaa331</td>\n",
       "      <td>Treatment</td>\n",
       "    </tr>\n",
       "  </tbody>\n",
       "</table>\n",
       "</div>"
      ],
      "text/plain": [
       "       pmid                  journal  \\\n",
       "0  32519164    J Thromb Thrombolysis   \n",
       "1  32691006  J Tradit Complement Med   \n",
       "2  32858315          J Affect Disord   \n",
       "3  32985329               J Dent Res   \n",
       "4  32812051   J Antimicrob Chemother   \n",
       "\n",
       "                                               title  \\\n",
       "0  Potential role for tissue factor in the pathog...   \n",
       "1  Dietary therapy and herbal medicine for COVID-...   \n",
       "2  First report of manic-like symptoms in a COVID...   \n",
       "3  Epidemiological Investigation of OHCWs with CO...   \n",
       "4  The impact of sofosbuvir/daclatasvir or ribavi...   \n",
       "\n",
       "                                            abstract  \\\n",
       "0  In December 2019, a new and highly contagious ...   \n",
       "1  A novel coronavirus disease (COVID-19), transm...   \n",
       "2  BACKGROUND: In December 2019, the novel corona...   \n",
       "3  During the coronavirus disease 2019 (COVID-19)...   \n",
       "4  OBJECTIVES: Sofosbuvir and daclatasvir are dir...   \n",
       "\n",
       "                                            keywords  \\\n",
       "0  covid-19;il-6;sars-cov-2;tnf-alpha;thrombosis;...   \n",
       "1  covid-19;coronavirus;dietary therapy;herbal me...   \n",
       "2  cerebrospinal fluid;igg;manic-like symptoms;sa...   \n",
       "3  dental education;dental public health;infectio...   \n",
       "4                                                NaN   \n",
       "\n",
       "                                            pub_type  \\\n",
       "0                             Journal Article;Review   \n",
       "1                             Journal Article;Review   \n",
       "2                       Case Reports;Journal Article   \n",
       "3   Journal Article;Research Support, Non-U.S. Gov't   \n",
       "4  Journal Article;Randomized Controlled Trial;Re...   \n",
       "\n",
       "                                             authors  \\\n",
       "0  Bautista-Vargas, Mario;Bonilla-Abadia, Fabio;C...   \n",
       "1       Panyod, Suraphan;Ho, Chi-Tang;Sheen, Lee-Yan   \n",
       "2  Lu, Shaojia;Wei, Ning;Jiang, Jiajun;Wu, Lingli...   \n",
       "3                     Meng, L;Ma, B;Cheng, Y;Bian, Z   \n",
       "4  Eslami, Gholamali;Mousaviasl, Sajedeh;Radmanes...   \n",
       "\n",
       "                           doi                 label  \n",
       "0   10.1007/s11239-020-02172-x   Treatment;Mechanism  \n",
       "1  10.1016/j.jtcme.2020.05.004  Treatment;Prevention  \n",
       "2    10.1016/j.jad.2020.08.031           Case Report  \n",
       "3     10.1177/0022034520962087            Prevention  \n",
       "4          10.1093/jac/dkaa331             Treatment  "
      ]
     },
     "execution_count": 4,
     "metadata": {},
     "output_type": "execute_result"
    }
   ],
   "source": [
    "train_data.head()"
   ]
  },
  {
   "cell_type": "code",
   "execution_count": 5,
   "metadata": {},
   "outputs": [
    {
     "data": {
      "text/plain": [
       "(24960, 9)"
      ]
     },
     "execution_count": 5,
     "metadata": {},
     "output_type": "execute_result"
    }
   ],
   "source": [
    "train_data.shape"
   ]
  },
  {
   "cell_type": "code",
   "execution_count": 6,
   "metadata": {},
   "outputs": [],
   "source": [
    "processed_train_data = pd.DataFrame()\n",
    "def split_semicolon(string):\n",
    "    return str(string).split(';')\n",
    "\n",
    "processed_train_data['labels']=train_data['label'].apply(split_semicolon)\n",
    "processed_train_data['text']=train_data['abstract']"
   ]
  },
  {
   "cell_type": "code",
   "execution_count": 7,
   "metadata": {},
   "outputs": [
    {
     "data": {
      "text/html": [
       "<div>\n",
       "<style scoped>\n",
       "    .dataframe tbody tr th:only-of-type {\n",
       "        vertical-align: middle;\n",
       "    }\n",
       "\n",
       "    .dataframe tbody tr th {\n",
       "        vertical-align: top;\n",
       "    }\n",
       "\n",
       "    .dataframe thead th {\n",
       "        text-align: right;\n",
       "    }\n",
       "</style>\n",
       "<table border=\"1\" class=\"dataframe\">\n",
       "  <thead>\n",
       "    <tr style=\"text-align: right;\">\n",
       "      <th></th>\n",
       "      <th>labels</th>\n",
       "      <th>text</th>\n",
       "    </tr>\n",
       "  </thead>\n",
       "  <tbody>\n",
       "    <tr>\n",
       "      <th>0</th>\n",
       "      <td>[Treatment, Mechanism]</td>\n",
       "      <td>In December 2019, a new and highly contagious ...</td>\n",
       "    </tr>\n",
       "    <tr>\n",
       "      <th>1</th>\n",
       "      <td>[Treatment, Prevention]</td>\n",
       "      <td>A novel coronavirus disease (COVID-19), transm...</td>\n",
       "    </tr>\n",
       "    <tr>\n",
       "      <th>2</th>\n",
       "      <td>[Case Report]</td>\n",
       "      <td>BACKGROUND: In December 2019, the novel corona...</td>\n",
       "    </tr>\n",
       "    <tr>\n",
       "      <th>3</th>\n",
       "      <td>[Prevention]</td>\n",
       "      <td>During the coronavirus disease 2019 (COVID-19)...</td>\n",
       "    </tr>\n",
       "    <tr>\n",
       "      <th>4</th>\n",
       "      <td>[Treatment]</td>\n",
       "      <td>OBJECTIVES: Sofosbuvir and daclatasvir are dir...</td>\n",
       "    </tr>\n",
       "  </tbody>\n",
       "</table>\n",
       "</div>"
      ],
      "text/plain": [
       "                    labels                                               text\n",
       "0   [Treatment, Mechanism]  In December 2019, a new and highly contagious ...\n",
       "1  [Treatment, Prevention]  A novel coronavirus disease (COVID-19), transm...\n",
       "2            [Case Report]  BACKGROUND: In December 2019, the novel corona...\n",
       "3             [Prevention]  During the coronavirus disease 2019 (COVID-19)...\n",
       "4              [Treatment]  OBJECTIVES: Sofosbuvir and daclatasvir are dir..."
      ]
     },
     "execution_count": 7,
     "metadata": {},
     "output_type": "execute_result"
    }
   ],
   "source": [
    "processed_train_data.head()"
   ]
  },
  {
   "cell_type": "code",
   "execution_count": 8,
   "metadata": {},
   "outputs": [
    {
     "name": "stdout",
     "output_type": "stream",
     "text": [
      "(24960, 7)\n",
      "['Case Report' 'Diagnosis' 'Epidemic Forecasting' 'Mechanism' 'Prevention'\n",
      " 'Transmission' 'Treatment']\n"
     ]
    }
   ],
   "source": [
    "label_mlb = MultiLabelBinarizer()\n",
    "label_mle = label_mlb.fit_transform(processed_train_data['labels'])\n",
    "print(label_mle.shape)\n",
    "print(label_mlb.classes_)"
   ]
  },
  {
   "cell_type": "code",
   "execution_count": 9,
   "metadata": {},
   "outputs": [
    {
     "data": {
      "text/plain": [
       "array([ 2063,  6193,   645,  4438, 11102,  1088,  8717])"
      ]
     },
     "execution_count": 9,
     "metadata": {},
     "output_type": "execute_result"
    }
   ],
   "source": [
    "label_mle.sum(axis=0)"
   ]
  },
  {
   "cell_type": "code",
   "execution_count": 10,
   "metadata": {},
   "outputs": [
    {
     "data": {
      "text/html": [
       "<div>\n",
       "<style scoped>\n",
       "    .dataframe tbody tr th:only-of-type {\n",
       "        vertical-align: middle;\n",
       "    }\n",
       "\n",
       "    .dataframe tbody tr th {\n",
       "        vertical-align: top;\n",
       "    }\n",
       "\n",
       "    .dataframe thead th {\n",
       "        text-align: right;\n",
       "    }\n",
       "</style>\n",
       "<table border=\"1\" class=\"dataframe\">\n",
       "  <thead>\n",
       "    <tr style=\"text-align: right;\">\n",
       "      <th></th>\n",
       "      <th>labels</th>\n",
       "      <th>text</th>\n",
       "    </tr>\n",
       "  </thead>\n",
       "  <tbody>\n",
       "    <tr>\n",
       "      <th>0</th>\n",
       "      <td>[0, 0, 0, 1, 0, 0, 1]</td>\n",
       "      <td>In December 2019, a new and highly contagious ...</td>\n",
       "    </tr>\n",
       "    <tr>\n",
       "      <th>1</th>\n",
       "      <td>[0, 0, 0, 0, 1, 0, 1]</td>\n",
       "      <td>A novel coronavirus disease (COVID-19), transm...</td>\n",
       "    </tr>\n",
       "    <tr>\n",
       "      <th>2</th>\n",
       "      <td>[1, 0, 0, 0, 0, 0, 0]</td>\n",
       "      <td>BACKGROUND: In December 2019, the novel corona...</td>\n",
       "    </tr>\n",
       "    <tr>\n",
       "      <th>3</th>\n",
       "      <td>[0, 0, 0, 0, 1, 0, 0]</td>\n",
       "      <td>During the coronavirus disease 2019 (COVID-19)...</td>\n",
       "    </tr>\n",
       "    <tr>\n",
       "      <th>4</th>\n",
       "      <td>[0, 0, 0, 0, 0, 0, 1]</td>\n",
       "      <td>OBJECTIVES: Sofosbuvir and daclatasvir are dir...</td>\n",
       "    </tr>\n",
       "  </tbody>\n",
       "</table>\n",
       "</div>"
      ],
      "text/plain": [
       "                  labels                                               text\n",
       "0  [0, 0, 0, 1, 0, 0, 1]  In December 2019, a new and highly contagious ...\n",
       "1  [0, 0, 0, 0, 1, 0, 1]  A novel coronavirus disease (COVID-19), transm...\n",
       "2  [1, 0, 0, 0, 0, 0, 0]  BACKGROUND: In December 2019, the novel corona...\n",
       "3  [0, 0, 0, 0, 1, 0, 0]  During the coronavirus disease 2019 (COVID-19)...\n",
       "4  [0, 0, 0, 0, 0, 0, 1]  OBJECTIVES: Sofosbuvir and daclatasvir are dir..."
      ]
     },
     "execution_count": 10,
     "metadata": {},
     "output_type": "execute_result"
    }
   ],
   "source": [
    "processed_train_data['labels'] = label_mle.tolist()\n",
    "processed_train_data.head()"
   ]
  },
  {
   "cell_type": "code",
   "execution_count": 11,
   "metadata": {},
   "outputs": [],
   "source": [
    "X_train, X_test, Y_train, Y_test = train_test_split(processed_train_data['text'], processed_train_data['labels'],test_size=1000)"
   ]
  },
  {
   "cell_type": "code",
   "execution_count": 12,
   "metadata": {},
   "outputs": [
    {
     "data": {
      "text/html": [
       "<div>\n",
       "<style scoped>\n",
       "    .dataframe tbody tr th:only-of-type {\n",
       "        vertical-align: middle;\n",
       "    }\n",
       "\n",
       "    .dataframe tbody tr th {\n",
       "        vertical-align: top;\n",
       "    }\n",
       "\n",
       "    .dataframe thead th {\n",
       "        text-align: right;\n",
       "    }\n",
       "</style>\n",
       "<table border=\"1\" class=\"dataframe\">\n",
       "  <thead>\n",
       "    <tr style=\"text-align: right;\">\n",
       "      <th></th>\n",
       "      <th>text</th>\n",
       "      <th>labels</th>\n",
       "    </tr>\n",
       "  </thead>\n",
       "  <tbody>\n",
       "    <tr>\n",
       "      <th>4210</th>\n",
       "      <td>Recently, 6 percent of COVID-19 patients requi...</td>\n",
       "      <td>[0, 0, 0, 0, 1, 0, 0]</td>\n",
       "    </tr>\n",
       "    <tr>\n",
       "      <th>17493</th>\n",
       "      <td>The COVID-19 pandemic has caused many Veterans...</td>\n",
       "      <td>[0, 0, 0, 0, 1, 0, 0]</td>\n",
       "    </tr>\n",
       "    <tr>\n",
       "      <th>19075</th>\n",
       "      <td>We sought to provide a clinical practice proto...</td>\n",
       "      <td>[0, 0, 0, 0, 1, 0, 0]</td>\n",
       "    </tr>\n",
       "    <tr>\n",
       "      <th>1608</th>\n",
       "      <td>Severe acute respiratory syndrome coronavirus ...</td>\n",
       "      <td>[0, 1, 0, 1, 1, 1, 1]</td>\n",
       "    </tr>\n",
       "    <tr>\n",
       "      <th>9403</th>\n",
       "      <td>This study aimed to develop risk scores based ...</td>\n",
       "      <td>[0, 1, 0, 0, 0, 0, 1]</td>\n",
       "    </tr>\n",
       "  </tbody>\n",
       "</table>\n",
       "</div>"
      ],
      "text/plain": [
       "                                                    text  \\\n",
       "4210   Recently, 6 percent of COVID-19 patients requi...   \n",
       "17493  The COVID-19 pandemic has caused many Veterans...   \n",
       "19075  We sought to provide a clinical practice proto...   \n",
       "1608   Severe acute respiratory syndrome coronavirus ...   \n",
       "9403   This study aimed to develop risk scores based ...   \n",
       "\n",
       "                      labels  \n",
       "4210   [0, 0, 0, 0, 1, 0, 0]  \n",
       "17493  [0, 0, 0, 0, 1, 0, 0]  \n",
       "19075  [0, 0, 0, 0, 1, 0, 0]  \n",
       "1608   [0, 1, 0, 1, 1, 1, 1]  \n",
       "9403   [0, 1, 0, 0, 0, 0, 1]  "
      ]
     },
     "execution_count": 12,
     "metadata": {},
     "output_type": "execute_result"
    }
   ],
   "source": [
    "train = pd.DataFrame()\n",
    "train['text'] = X_train\n",
    "train['labels'] = Y_train\n",
    "\n",
    "test = pd.DataFrame()\n",
    "test['text'] = X_test\n",
    "test['labels'] = Y_test\n",
    "\n",
    "train.head()"
   ]
  },
  {
   "cell_type": "code",
   "execution_count": 13,
   "metadata": {},
   "outputs": [],
   "source": [
    "# train.to_csv('train_data.csv')\n",
    "# test.to_csv('test_data.csv')"
   ]
  },
  {
   "cell_type": "code",
   "execution_count": 14,
   "metadata": {},
   "outputs": [],
   "source": [
    "from sklearn.metrics import accuracy_score"
   ]
  },
  {
   "cell_type": "code",
   "execution_count": 15,
   "metadata": {},
   "outputs": [],
   "source": [
    "def weighted_f1(labels, preds, threshold=0.5):\n",
    "  \"\"\" Converts probabilities to labels using the [threshold] and calculates metrics. \n",
    "  Parameters ---------- labels preds threshold \n",
    "  Returns ------- \"\"\" \n",
    "  preds[preds > threshold] = 1\n",
    "  preds[preds <= threshold] = 0 \n",
    "\n",
    "  scores = f1_score(labels, preds, average='weighted') \n",
    "\n",
    "  #print(\"Scores: \" ,scores)\n",
    "  return scores"
   ]
  },
  {
   "cell_type": "code",
   "execution_count": 23,
   "metadata": {},
   "outputs": [],
   "source": [
    "model_args = MultiLabelClassificationArgs(\n",
    "    num_train_epochs=40,\n",
    "    evaluate_each_epoch=True,\n",
    "    overwrite_output_dir= True,\n",
    "    # evaluate_during_training=True,\n",
    "    save_model_every_epoch = True\n",
    ")"
   ]
  },
  {
   "cell_type": "code",
   "execution_count": 24,
   "metadata": {},
   "outputs": [
    {
     "name": "stderr",
     "output_type": "stream",
     "text": [
      "Some weights of the model checkpoint at bert-base-uncased were not used when initializing BertForMultiLabelSequenceClassification: ['cls.predictions.transform.LayerNorm.bias', 'cls.seq_relationship.bias', 'cls.predictions.bias', 'cls.seq_relationship.weight', 'cls.predictions.transform.LayerNorm.weight', 'cls.predictions.transform.dense.weight', 'cls.predictions.transform.dense.bias', 'cls.predictions.decoder.weight']\n",
      "- This IS expected if you are initializing BertForMultiLabelSequenceClassification from the checkpoint of a model trained on another task or with another architecture (e.g. initializing a BertForSequenceClassification model from a BertForPreTraining model).\n",
      "- This IS NOT expected if you are initializing BertForMultiLabelSequenceClassification from the checkpoint of a model that you expect to be exactly identical (initializing a BertForSequenceClassification model from a BertForSequenceClassification model).\n",
      "Some weights of BertForMultiLabelSequenceClassification were not initialized from the model checkpoint at bert-base-uncased and are newly initialized: ['classifier.bias', 'classifier.weight']\n",
      "You should probably TRAIN this model on a down-stream task to be able to use it for predictions and inference.\n"
     ]
    }
   ],
   "source": [
    "model = MultiLabelClassificationModel(\n",
    "    \"bert\",\n",
    "    \"bert-base-uncased\",\n",
    "    num_labels=7,\n",
    "    use_cuda=True,\n",
    "    args=model_args\n",
    ")"
   ]
  },
  {
   "cell_type": "code",
   "execution_count": 25,
   "metadata": {},
   "outputs": [],
   "source": [
    "# temp_train = train.iloc[:10,:]\n",
    "# temp_test = test.iloc[:10,:]"
   ]
  },
  {
   "cell_type": "code",
   "execution_count": 26,
   "metadata": {},
   "outputs": [
    {
     "data": {
      "application/vnd.jupyter.widget-view+json": {
       "model_id": "7544cd4b4682402e8caa97f5d93d0930",
       "version_major": 2,
       "version_minor": 0
      },
      "text/plain": [
       "  0%|          | 0/23960 [00:00<?, ?it/s]"
      ]
     },
     "metadata": {},
     "output_type": "display_data"
    },
    {
     "data": {
      "application/vnd.jupyter.widget-view+json": {
       "model_id": "73b8b98a67434750b915fdf6db4ee1ce",
       "version_major": 2,
       "version_minor": 0
      },
      "text/plain": [
       "Epoch:   0%|          | 0/40 [00:00<?, ?it/s]"
      ]
     },
     "metadata": {},
     "output_type": "display_data"
    },
    {
     "data": {
      "application/vnd.jupyter.widget-view+json": {
       "model_id": "2cb195704a674b1a92928d84f79999d9",
       "version_major": 2,
       "version_minor": 0
      },
      "text/plain": [
       "Running Epoch 0 of 40:   0%|          | 0/2995 [00:00<?, ?it/s]"
      ]
     },
     "metadata": {},
     "output_type": "display_data"
    },
    {
     "data": {
      "application/vnd.jupyter.widget-view+json": {
       "model_id": "75483a2aa98c4562b280735162cb1cf9",
       "version_major": 2,
       "version_minor": 0
      },
      "text/plain": [
       "Running Epoch 1 of 40:   0%|          | 0/2995 [00:00<?, ?it/s]"
      ]
     },
     "metadata": {},
     "output_type": "display_data"
    },
    {
     "name": "stderr",
     "output_type": "stream",
     "text": [
      "/opt/conda/lib/python3.7/site-packages/simpletransformers/classification/classification_model.py:922: FutureWarning: Non-finite norm encountered in torch.nn.utils.clip_grad_norm_; continuing anyway. Note that the default behavior will change in a future release to error out if a non-finite total norm is encountered. At that point, setting error_if_nonfinite=false will be required to retain the old behavior.\n",
      "  model.parameters(), args.max_grad_norm\n"
     ]
    },
    {
     "data": {
      "application/vnd.jupyter.widget-view+json": {
       "model_id": "7a2762e6611b4d5888378742f3a0ee0a",
       "version_major": 2,
       "version_minor": 0
      },
      "text/plain": [
       "Running Epoch 2 of 40:   0%|          | 0/2995 [00:00<?, ?it/s]"
      ]
     },
     "metadata": {},
     "output_type": "display_data"
    },
    {
     "data": {
      "application/vnd.jupyter.widget-view+json": {
       "model_id": "8c6f3bdddc2b4a8aa374f44de9affb12",
       "version_major": 2,
       "version_minor": 0
      },
      "text/plain": [
       "Running Epoch 3 of 40:   0%|          | 0/2995 [00:00<?, ?it/s]"
      ]
     },
     "metadata": {},
     "output_type": "display_data"
    },
    {
     "data": {
      "application/vnd.jupyter.widget-view+json": {
       "model_id": "fda537a2965244b5b0fc265daa45c15a",
       "version_major": 2,
       "version_minor": 0
      },
      "text/plain": [
       "Running Epoch 4 of 40:   0%|          | 0/2995 [00:00<?, ?it/s]"
      ]
     },
     "metadata": {},
     "output_type": "display_data"
    },
    {
     "data": {
      "application/vnd.jupyter.widget-view+json": {
       "model_id": "4c6219a9b4ea49738dfce55e4c1bfbc0",
       "version_major": 2,
       "version_minor": 0
      },
      "text/plain": [
       "Running Epoch 5 of 40:   0%|          | 0/2995 [00:00<?, ?it/s]"
      ]
     },
     "metadata": {},
     "output_type": "display_data"
    },
    {
     "data": {
      "application/vnd.jupyter.widget-view+json": {
       "model_id": "fc4c2e88dffa4a8babb40fd1f0a5a387",
       "version_major": 2,
       "version_minor": 0
      },
      "text/plain": [
       "Running Epoch 6 of 40:   0%|          | 0/2995 [00:00<?, ?it/s]"
      ]
     },
     "metadata": {},
     "output_type": "display_data"
    },
    {
     "data": {
      "application/vnd.jupyter.widget-view+json": {
       "model_id": "9bb4da8e8c494fe29922c0d9d6ee42e5",
       "version_major": 2,
       "version_minor": 0
      },
      "text/plain": [
       "Running Epoch 7 of 40:   0%|          | 0/2995 [00:00<?, ?it/s]"
      ]
     },
     "metadata": {},
     "output_type": "display_data"
    },
    {
     "data": {
      "application/vnd.jupyter.widget-view+json": {
       "model_id": "176470fce56a45d391c4585f57a9c1af",
       "version_major": 2,
       "version_minor": 0
      },
      "text/plain": [
       "Running Epoch 8 of 40:   0%|          | 0/2995 [00:00<?, ?it/s]"
      ]
     },
     "metadata": {},
     "output_type": "display_data"
    },
    {
     "data": {
      "application/vnd.jupyter.widget-view+json": {
       "model_id": "35bbbf7b668040df9ca80e6c2a8c375b",
       "version_major": 2,
       "version_minor": 0
      },
      "text/plain": [
       "Running Epoch 9 of 40:   0%|          | 0/2995 [00:00<?, ?it/s]"
      ]
     },
     "metadata": {},
     "output_type": "display_data"
    },
    {
     "data": {
      "application/vnd.jupyter.widget-view+json": {
       "model_id": "01eed5f1cc374f32bcd31236093c755b",
       "version_major": 2,
       "version_minor": 0
      },
      "text/plain": [
       "Running Epoch 10 of 40:   0%|          | 0/2995 [00:00<?, ?it/s]"
      ]
     },
     "metadata": {},
     "output_type": "display_data"
    },
    {
     "data": {
      "application/vnd.jupyter.widget-view+json": {
       "model_id": "1f3c71217dd04b83a96399d9e4a24a39",
       "version_major": 2,
       "version_minor": 0
      },
      "text/plain": [
       "Running Epoch 11 of 40:   0%|          | 0/2995 [00:00<?, ?it/s]"
      ]
     },
     "metadata": {},
     "output_type": "display_data"
    },
    {
     "data": {
      "application/vnd.jupyter.widget-view+json": {
       "model_id": "d69cfa92046c4ee8aaa4514eb16005eb",
       "version_major": 2,
       "version_minor": 0
      },
      "text/plain": [
       "Running Epoch 12 of 40:   0%|          | 0/2995 [00:00<?, ?it/s]"
      ]
     },
     "metadata": {},
     "output_type": "display_data"
    },
    {
     "data": {
      "application/vnd.jupyter.widget-view+json": {
       "model_id": "a383a2166e0d4648b002b9a8d01077e4",
       "version_major": 2,
       "version_minor": 0
      },
      "text/plain": [
       "Running Epoch 13 of 40:   0%|          | 0/2995 [00:00<?, ?it/s]"
      ]
     },
     "metadata": {},
     "output_type": "display_data"
    },
    {
     "data": {
      "application/vnd.jupyter.widget-view+json": {
       "model_id": "1c363d15c96546bba359946bb22bd2c0",
       "version_major": 2,
       "version_minor": 0
      },
      "text/plain": [
       "Running Epoch 14 of 40:   0%|          | 0/2995 [00:00<?, ?it/s]"
      ]
     },
     "metadata": {},
     "output_type": "display_data"
    },
    {
     "data": {
      "application/vnd.jupyter.widget-view+json": {
       "model_id": "21c939fca89f4ec0a831367f2c185285",
       "version_major": 2,
       "version_minor": 0
      },
      "text/plain": [
       "Running Epoch 15 of 40:   0%|          | 0/2995 [00:00<?, ?it/s]"
      ]
     },
     "metadata": {},
     "output_type": "display_data"
    },
    {
     "data": {
      "application/vnd.jupyter.widget-view+json": {
       "model_id": "7547ba26bc9d4ae491685a25238c65f9",
       "version_major": 2,
       "version_minor": 0
      },
      "text/plain": [
       "Running Epoch 16 of 40:   0%|          | 0/2995 [00:00<?, ?it/s]"
      ]
     },
     "metadata": {},
     "output_type": "display_data"
    },
    {
     "data": {
      "application/vnd.jupyter.widget-view+json": {
       "model_id": "f5a8e838e7d24e6e8b5a9dfe71f19342",
       "version_major": 2,
       "version_minor": 0
      },
      "text/plain": [
       "Running Epoch 17 of 40:   0%|          | 0/2995 [00:00<?, ?it/s]"
      ]
     },
     "metadata": {},
     "output_type": "display_data"
    },
    {
     "data": {
      "application/vnd.jupyter.widget-view+json": {
       "model_id": "5582815fb06f43c9914decffc39901f0",
       "version_major": 2,
       "version_minor": 0
      },
      "text/plain": [
       "Running Epoch 18 of 40:   0%|          | 0/2995 [00:00<?, ?it/s]"
      ]
     },
     "metadata": {},
     "output_type": "display_data"
    },
    {
     "data": {
      "application/vnd.jupyter.widget-view+json": {
       "model_id": "7d3843bef79546bf898645d474f616a6",
       "version_major": 2,
       "version_minor": 0
      },
      "text/plain": [
       "Running Epoch 19 of 40:   0%|          | 0/2995 [00:00<?, ?it/s]"
      ]
     },
     "metadata": {},
     "output_type": "display_data"
    },
    {
     "data": {
      "application/vnd.jupyter.widget-view+json": {
       "model_id": "b5b5f56a5b4c46e78a8051c11d3828c3",
       "version_major": 2,
       "version_minor": 0
      },
      "text/plain": [
       "Running Epoch 20 of 40:   0%|          | 0/2995 [00:00<?, ?it/s]"
      ]
     },
     "metadata": {},
     "output_type": "display_data"
    },
    {
     "data": {
      "application/vnd.jupyter.widget-view+json": {
       "model_id": "267e758278a141f9888aa8faef0b87b0",
       "version_major": 2,
       "version_minor": 0
      },
      "text/plain": [
       "Running Epoch 21 of 40:   0%|          | 0/2995 [00:00<?, ?it/s]"
      ]
     },
     "metadata": {},
     "output_type": "display_data"
    },
    {
     "data": {
      "application/vnd.jupyter.widget-view+json": {
       "model_id": "107ee6dcd94248fdb4a547829a73c54c",
       "version_major": 2,
       "version_minor": 0
      },
      "text/plain": [
       "Running Epoch 22 of 40:   0%|          | 0/2995 [00:00<?, ?it/s]"
      ]
     },
     "metadata": {},
     "output_type": "display_data"
    },
    {
     "data": {
      "application/vnd.jupyter.widget-view+json": {
       "model_id": "1ec48cc1ac40494787d958cfb8d5c0ce",
       "version_major": 2,
       "version_minor": 0
      },
      "text/plain": [
       "Running Epoch 23 of 40:   0%|          | 0/2995 [00:00<?, ?it/s]"
      ]
     },
     "metadata": {},
     "output_type": "display_data"
    },
    {
     "data": {
      "application/vnd.jupyter.widget-view+json": {
       "model_id": "968191475430403fa6251e58f9a371d7",
       "version_major": 2,
       "version_minor": 0
      },
      "text/plain": [
       "Running Epoch 24 of 40:   0%|          | 0/2995 [00:00<?, ?it/s]"
      ]
     },
     "metadata": {},
     "output_type": "display_data"
    },
    {
     "data": {
      "application/vnd.jupyter.widget-view+json": {
       "model_id": "5dc7ed3ae45f4b428f79f9b8965b5c68",
       "version_major": 2,
       "version_minor": 0
      },
      "text/plain": [
       "Running Epoch 25 of 40:   0%|          | 0/2995 [00:00<?, ?it/s]"
      ]
     },
     "metadata": {},
     "output_type": "display_data"
    },
    {
     "data": {
      "application/vnd.jupyter.widget-view+json": {
       "model_id": "72997e82cff84ff58a27aed30c790c37",
       "version_major": 2,
       "version_minor": 0
      },
      "text/plain": [
       "Running Epoch 26 of 40:   0%|          | 0/2995 [00:00<?, ?it/s]"
      ]
     },
     "metadata": {},
     "output_type": "display_data"
    },
    {
     "data": {
      "application/vnd.jupyter.widget-view+json": {
       "model_id": "270ede74b8834a46b1eae40b2476ad5a",
       "version_major": 2,
       "version_minor": 0
      },
      "text/plain": [
       "Running Epoch 27 of 40:   0%|          | 0/2995 [00:00<?, ?it/s]"
      ]
     },
     "metadata": {},
     "output_type": "display_data"
    },
    {
     "data": {
      "application/vnd.jupyter.widget-view+json": {
       "model_id": "8c70066f61214f569918987f366788cd",
       "version_major": 2,
       "version_minor": 0
      },
      "text/plain": [
       "Running Epoch 28 of 40:   0%|          | 0/2995 [00:00<?, ?it/s]"
      ]
     },
     "metadata": {},
     "output_type": "display_data"
    },
    {
     "data": {
      "application/vnd.jupyter.widget-view+json": {
       "model_id": "b252edecf2864d81a1491b1d1f800ab7",
       "version_major": 2,
       "version_minor": 0
      },
      "text/plain": [
       "Running Epoch 29 of 40:   0%|          | 0/2995 [00:00<?, ?it/s]"
      ]
     },
     "metadata": {},
     "output_type": "display_data"
    },
    {
     "data": {
      "application/vnd.jupyter.widget-view+json": {
       "model_id": "129be82fcc5a428495b271308bce0e3d",
       "version_major": 2,
       "version_minor": 0
      },
      "text/plain": [
       "Running Epoch 30 of 40:   0%|          | 0/2995 [00:00<?, ?it/s]"
      ]
     },
     "metadata": {},
     "output_type": "display_data"
    },
    {
     "data": {
      "application/vnd.jupyter.widget-view+json": {
       "model_id": "622deafd32fc4875a40fdb3ec4b9d950",
       "version_major": 2,
       "version_minor": 0
      },
      "text/plain": [
       "Running Epoch 31 of 40:   0%|          | 0/2995 [00:00<?, ?it/s]"
      ]
     },
     "metadata": {},
     "output_type": "display_data"
    },
    {
     "data": {
      "application/vnd.jupyter.widget-view+json": {
       "model_id": "3fb65d90601b4cc297239cd1e48874bf",
       "version_major": 2,
       "version_minor": 0
      },
      "text/plain": [
       "Running Epoch 32 of 40:   0%|          | 0/2995 [00:00<?, ?it/s]"
      ]
     },
     "metadata": {},
     "output_type": "display_data"
    },
    {
     "data": {
      "application/vnd.jupyter.widget-view+json": {
       "model_id": "8d56563f22e34f4ca839297119688a54",
       "version_major": 2,
       "version_minor": 0
      },
      "text/plain": [
       "Running Epoch 33 of 40:   0%|          | 0/2995 [00:00<?, ?it/s]"
      ]
     },
     "metadata": {},
     "output_type": "display_data"
    },
    {
     "data": {
      "application/vnd.jupyter.widget-view+json": {
       "model_id": "9f54e63809d54ff39ed7e2fac4dea093",
       "version_major": 2,
       "version_minor": 0
      },
      "text/plain": [
       "Running Epoch 34 of 40:   0%|          | 0/2995 [00:00<?, ?it/s]"
      ]
     },
     "metadata": {},
     "output_type": "display_data"
    },
    {
     "data": {
      "application/vnd.jupyter.widget-view+json": {
       "model_id": "0661f8b102084acbbef54cf10edfc010",
       "version_major": 2,
       "version_minor": 0
      },
      "text/plain": [
       "Running Epoch 35 of 40:   0%|          | 0/2995 [00:00<?, ?it/s]"
      ]
     },
     "metadata": {},
     "output_type": "display_data"
    },
    {
     "data": {
      "application/vnd.jupyter.widget-view+json": {
       "model_id": "ffe46c09aa3a4d0d87bfa36b608e2def",
       "version_major": 2,
       "version_minor": 0
      },
      "text/plain": [
       "Running Epoch 36 of 40:   0%|          | 0/2995 [00:00<?, ?it/s]"
      ]
     },
     "metadata": {},
     "output_type": "display_data"
    },
    {
     "data": {
      "application/vnd.jupyter.widget-view+json": {
       "model_id": "19b50db22e8f4c119bb3609519f20bb0",
       "version_major": 2,
       "version_minor": 0
      },
      "text/plain": [
       "Running Epoch 37 of 40:   0%|          | 0/2995 [00:00<?, ?it/s]"
      ]
     },
     "metadata": {},
     "output_type": "display_data"
    },
    {
     "data": {
      "application/vnd.jupyter.widget-view+json": {
       "model_id": "8a3857ba3b58429382c0ce83ba47feea",
       "version_major": 2,
       "version_minor": 0
      },
      "text/plain": [
       "Running Epoch 38 of 40:   0%|          | 0/2995 [00:00<?, ?it/s]"
      ]
     },
     "metadata": {},
     "output_type": "display_data"
    },
    {
     "data": {
      "application/vnd.jupyter.widget-view+json": {
       "model_id": "d68508755bcf4cf5a3c1ff20735c8ebd",
       "version_major": 2,
       "version_minor": 0
      },
      "text/plain": [
       "Running Epoch 39 of 40:   0%|          | 0/2995 [00:00<?, ?it/s]"
      ]
     },
     "metadata": {},
     "output_type": "display_data"
    },
    {
     "data": {
      "text/plain": [
       "(119800, 0.033227868420262666)"
      ]
     },
     "execution_count": 26,
     "metadata": {},
     "output_type": "execute_result"
    }
   ],
   "source": [
    "model.train_model(train, eval_df = test)"
   ]
  },
  {
   "cell_type": "code",
   "execution_count": 27,
   "metadata": {},
   "outputs": [],
   "source": [
    "model.save_model('Baseline_Model')"
   ]
  },
  {
   "cell_type": "code",
   "execution_count": 28,
   "metadata": {},
   "outputs": [
    {
     "data": {
      "application/vnd.jupyter.widget-view+json": {
       "model_id": "1af792f31890494d9b315d8582d35ec2",
       "version_major": 2,
       "version_minor": 0
      },
      "text/plain": [
       "  0%|          | 0/1000 [00:00<?, ?it/s]"
      ]
     },
     "metadata": {},
     "output_type": "display_data"
    },
    {
     "data": {
      "application/vnd.jupyter.widget-view+json": {
       "model_id": "1aec7bf84a0049fea7f72c3992de7332",
       "version_major": 2,
       "version_minor": 0
      },
      "text/plain": [
       "Running Evaluation:   0%|          | 0/125 [00:00<?, ?it/s]"
      ]
     },
     "metadata": {},
     "output_type": "display_data"
    }
   ],
   "source": [
    "result, model_outputs, wrong_predictions = model.eval_model(test,metrics=weighted_f1)"
   ]
  },
  {
   "cell_type": "code",
   "execution_count": 29,
   "metadata": {},
   "outputs": [
    {
     "data": {
      "text/plain": [
       "{'LRAP': 0.8393779761904755,\n",
       " 'metrics': 0.8284641065786332,\n",
       " 'eval_loss': 0.5571619349184767}"
      ]
     },
     "execution_count": 29,
     "metadata": {},
     "output_type": "execute_result"
    }
   ],
   "source": [
    "result"
   ]
  },
  {
   "cell_type": "code",
   "execution_count": null,
   "metadata": {},
   "outputs": [],
   "source": []
  }
 ],
 "metadata": {
  "interpreter": {
   "hash": "1a06639d554e1dc9dc381e887ef37ca4c19237795132bbfe443d6b71ab736acb"
  },
  "kernelspec": {
   "display_name": "Python 3",
   "language": "python",
   "name": "python3"
  },
  "language_info": {
   "codemirror_mode": {
    "name": "ipython",
    "version": 3
   },
   "file_extension": ".py",
   "mimetype": "text/x-python",
   "name": "python",
   "nbconvert_exporter": "python",
   "pygments_lexer": "ipython3",
   "version": "3.7.10"
  }
 },
 "nbformat": 4,
 "nbformat_minor": 2
}
