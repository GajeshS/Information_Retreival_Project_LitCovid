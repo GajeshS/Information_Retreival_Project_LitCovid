{
 "cells": [
  {
   "cell_type": "code",
   "execution_count": 1,
   "id": "d8480fcd-b581-4402-b6d6-ecc80b1e2ee3",
   "metadata": {},
   "outputs": [],
   "source": [
    "import numpy as np\n",
    "import pandas as pd\n",
    "import sklearn"
   ]
  },
  {
   "cell_type": "code",
   "execution_count": 2,
   "id": "d66cbda4-ee8f-44d8-99d5-537e05e1a947",
   "metadata": {},
   "outputs": [],
   "source": [
    "train_data = pd.read_csv('BC7-LitCovid-Train.csv')"
   ]
  },
  {
   "cell_type": "code",
   "execution_count": 3,
   "id": "64b81e43-c653-4d46-8e7e-43e35e5c2412",
   "metadata": {},
   "outputs": [
    {
     "data": {
      "text/html": [
       "<div>\n",
       "<style scoped>\n",
       "    .dataframe tbody tr th:only-of-type {\n",
       "        vertical-align: middle;\n",
       "    }\n",
       "\n",
       "    .dataframe tbody tr th {\n",
       "        vertical-align: top;\n",
       "    }\n",
       "\n",
       "    .dataframe thead th {\n",
       "        text-align: right;\n",
       "    }\n",
       "</style>\n",
       "<table border=\"1\" class=\"dataframe\">\n",
       "  <thead>\n",
       "    <tr style=\"text-align: right;\">\n",
       "      <th></th>\n",
       "      <th>pmid</th>\n",
       "      <th>journal</th>\n",
       "      <th>title</th>\n",
       "      <th>abstract</th>\n",
       "      <th>keywords</th>\n",
       "      <th>pub_type</th>\n",
       "      <th>authors</th>\n",
       "      <th>doi</th>\n",
       "      <th>label</th>\n",
       "    </tr>\n",
       "  </thead>\n",
       "  <tbody>\n",
       "    <tr>\n",
       "      <th>0</th>\n",
       "      <td>32519164</td>\n",
       "      <td>J Thromb Thrombolysis</td>\n",
       "      <td>Potential role for tissue factor in the pathog...</td>\n",
       "      <td>In December 2019, a new and highly contagious ...</td>\n",
       "      <td>covid-19;il-6;sars-cov-2;tnf-alpha;thrombosis;...</td>\n",
       "      <td>Journal Article;Review</td>\n",
       "      <td>Bautista-Vargas, Mario;Bonilla-Abadia, Fabio;C...</td>\n",
       "      <td>10.1007/s11239-020-02172-x</td>\n",
       "      <td>Treatment;Mechanism</td>\n",
       "    </tr>\n",
       "    <tr>\n",
       "      <th>1</th>\n",
       "      <td>32691006</td>\n",
       "      <td>J Tradit Complement Med</td>\n",
       "      <td>Dietary therapy and herbal medicine for COVID-...</td>\n",
       "      <td>A novel coronavirus disease (COVID-19), transm...</td>\n",
       "      <td>covid-19;coronavirus;dietary therapy;herbal me...</td>\n",
       "      <td>Journal Article;Review</td>\n",
       "      <td>Panyod, Suraphan;Ho, Chi-Tang;Sheen, Lee-Yan</td>\n",
       "      <td>10.1016/j.jtcme.2020.05.004</td>\n",
       "      <td>Treatment;Prevention</td>\n",
       "    </tr>\n",
       "    <tr>\n",
       "      <th>2</th>\n",
       "      <td>32858315</td>\n",
       "      <td>J Affect Disord</td>\n",
       "      <td>First report of manic-like symptoms in a COVID...</td>\n",
       "      <td>BACKGROUND: In December 2019, the novel corona...</td>\n",
       "      <td>cerebrospinal fluid;igg;manic-like symptoms;sa...</td>\n",
       "      <td>Case Reports;Journal Article</td>\n",
       "      <td>Lu, Shaojia;Wei, Ning;Jiang, Jiajun;Wu, Lingli...</td>\n",
       "      <td>10.1016/j.jad.2020.08.031</td>\n",
       "      <td>Case Report</td>\n",
       "    </tr>\n",
       "    <tr>\n",
       "      <th>3</th>\n",
       "      <td>32985329</td>\n",
       "      <td>J Dent Res</td>\n",
       "      <td>Epidemiological Investigation of OHCWs with CO...</td>\n",
       "      <td>During the coronavirus disease 2019 (COVID-19)...</td>\n",
       "      <td>dental education;dental public health;infectio...</td>\n",
       "      <td>Journal Article;Research Support, Non-U.S. Gov't</td>\n",
       "      <td>Meng, L;Ma, B;Cheng, Y;Bian, Z</td>\n",
       "      <td>10.1177/0022034520962087</td>\n",
       "      <td>Prevention</td>\n",
       "    </tr>\n",
       "    <tr>\n",
       "      <th>4</th>\n",
       "      <td>32812051</td>\n",
       "      <td>J Antimicrob Chemother</td>\n",
       "      <td>The impact of sofosbuvir/daclatasvir or ribavi...</td>\n",
       "      <td>OBJECTIVES: Sofosbuvir and daclatasvir are dir...</td>\n",
       "      <td>NaN</td>\n",
       "      <td>Journal Article;Randomized Controlled Trial;Re...</td>\n",
       "      <td>Eslami, Gholamali;Mousaviasl, Sajedeh;Radmanes...</td>\n",
       "      <td>10.1093/jac/dkaa331</td>\n",
       "      <td>Treatment</td>\n",
       "    </tr>\n",
       "  </tbody>\n",
       "</table>\n",
       "</div>"
      ],
      "text/plain": [
       "       pmid                  journal  \\\n",
       "0  32519164    J Thromb Thrombolysis   \n",
       "1  32691006  J Tradit Complement Med   \n",
       "2  32858315          J Affect Disord   \n",
       "3  32985329               J Dent Res   \n",
       "4  32812051   J Antimicrob Chemother   \n",
       "\n",
       "                                               title  \\\n",
       "0  Potential role for tissue factor in the pathog...   \n",
       "1  Dietary therapy and herbal medicine for COVID-...   \n",
       "2  First report of manic-like symptoms in a COVID...   \n",
       "3  Epidemiological Investigation of OHCWs with CO...   \n",
       "4  The impact of sofosbuvir/daclatasvir or ribavi...   \n",
       "\n",
       "                                            abstract  \\\n",
       "0  In December 2019, a new and highly contagious ...   \n",
       "1  A novel coronavirus disease (COVID-19), transm...   \n",
       "2  BACKGROUND: In December 2019, the novel corona...   \n",
       "3  During the coronavirus disease 2019 (COVID-19)...   \n",
       "4  OBJECTIVES: Sofosbuvir and daclatasvir are dir...   \n",
       "\n",
       "                                            keywords  \\\n",
       "0  covid-19;il-6;sars-cov-2;tnf-alpha;thrombosis;...   \n",
       "1  covid-19;coronavirus;dietary therapy;herbal me...   \n",
       "2  cerebrospinal fluid;igg;manic-like symptoms;sa...   \n",
       "3  dental education;dental public health;infectio...   \n",
       "4                                                NaN   \n",
       "\n",
       "                                            pub_type  \\\n",
       "0                             Journal Article;Review   \n",
       "1                             Journal Article;Review   \n",
       "2                       Case Reports;Journal Article   \n",
       "3   Journal Article;Research Support, Non-U.S. Gov't   \n",
       "4  Journal Article;Randomized Controlled Trial;Re...   \n",
       "\n",
       "                                             authors  \\\n",
       "0  Bautista-Vargas, Mario;Bonilla-Abadia, Fabio;C...   \n",
       "1       Panyod, Suraphan;Ho, Chi-Tang;Sheen, Lee-Yan   \n",
       "2  Lu, Shaojia;Wei, Ning;Jiang, Jiajun;Wu, Lingli...   \n",
       "3                     Meng, L;Ma, B;Cheng, Y;Bian, Z   \n",
       "4  Eslami, Gholamali;Mousaviasl, Sajedeh;Radmanes...   \n",
       "\n",
       "                           doi                 label  \n",
       "0   10.1007/s11239-020-02172-x   Treatment;Mechanism  \n",
       "1  10.1016/j.jtcme.2020.05.004  Treatment;Prevention  \n",
       "2    10.1016/j.jad.2020.08.031           Case Report  \n",
       "3     10.1177/0022034520962087            Prevention  \n",
       "4          10.1093/jac/dkaa331             Treatment  "
      ]
     },
     "execution_count": 3,
     "metadata": {},
     "output_type": "execute_result"
    }
   ],
   "source": [
    "train_data.head()"
   ]
  },
  {
   "cell_type": "markdown",
   "id": "f175f907-dbf3-4b74-ae14-5352ea7e6bd4",
   "metadata": {},
   "source": [
    "1) pmid, journal, pub_type and doi doesn't seem to add any value to the determination of the label\n",
    "2) label is multi-valued. It is ; separated.\n",
    "3) Abstract is a full body of text. Probably the most useful information imo (Gajesh)\n",
    "4) keywords is also a collection of ; separrated words. Usually found in paper, but may or may not be in the abstract. --> Could hint at processing this separately\n",
    "5) \\- is not a separator for most words. (eg: covid-19, il-6, sars-cov-2, tnf-alpha)"
   ]
  },
  {
   "cell_type": "code",
   "execution_count": 4,
   "id": "fafaa8e9-ddc3-46a0-a5b4-bd3881e73cd9",
   "metadata": {},
   "outputs": [],
   "source": [
    "example_datapoint = train_data.iloc[0]"
   ]
  },
  {
   "cell_type": "code",
   "execution_count": 5,
   "id": "512045bf-bc51-4ad0-89a4-f426ab093652",
   "metadata": {},
   "outputs": [
    {
     "name": "stdout",
     "output_type": "stream",
     "text": [
      "pmid                                                 32519164\n",
      "journal                                 J Thromb Thrombolysis\n",
      "title       Potential role for tissue factor in the pathog...\n",
      "abstract    In December 2019, a new and highly contagious ...\n",
      "keywords    covid-19;il-6;sars-cov-2;tnf-alpha;thrombosis;...\n",
      "pub_type                               Journal Article;Review\n",
      "authors     Bautista-Vargas, Mario;Bonilla-Abadia, Fabio;C...\n",
      "doi                                10.1007/s11239-020-02172-x\n",
      "label                                     Treatment;Mechanism\n",
      "Name: 0, dtype: object\n"
     ]
    }
   ],
   "source": [
    "print(example_datapoint)"
   ]
  },
  {
   "cell_type": "code",
   "execution_count": 6,
   "id": "52a9f237-168a-4ea9-8baf-9741060ffca3",
   "metadata": {},
   "outputs": [
    {
     "data": {
      "text/plain": [
       "'In December 2019, a new and highly contagious infectious disease emerged in Wuhan, China. The etiologic agent was identified as a novel coronavirus, now known as Severe Acute Syndrome Coronavirus-2 (SARS-CoV-2). Recent research has revealed that virus entry takes place upon the union of the virus S surface protein with the type I transmembrane metallo-carboxypeptidase, angiotensin converting enzyme 2 (ACE-2) identified on epithelial cells of the host respiratory tract. Virus triggers the synthesis and release of pro-inflammatory cytokines, including IL-6 and TNF-alpha and also promotes downregulation of ACE-2, which promotes a concomitant increase in levels of angiotensin II (AT-II). Both TNF-alpha and AT-II have been implicated in promoting overexpression of tissue factor (TF) in platelets and macrophages. Additionally, the generation of antiphospholipid antibodies associated with COVID-19 may also promote an increase in TF. TF may be a critical mediator associated with the development of thrombotic phenomena in COVID-19, and should be a target for future study.'"
      ]
     },
     "execution_count": 6,
     "metadata": {},
     "output_type": "execute_result"
    }
   ],
   "source": [
    "example_datapoint['abstract']"
   ]
  },
  {
   "cell_type": "code",
   "execution_count": 7,
   "id": "180afb7e-fdf2-4946-85fd-2b92ab7cd4ad",
   "metadata": {},
   "outputs": [
    {
     "data": {
      "text/plain": [
       "['covid-19', 'il-6', 'sars-cov-2', 'tnf-alpha', 'thrombosis', 'tissue factor']"
      ]
     },
     "execution_count": 7,
     "metadata": {},
     "output_type": "execute_result"
    }
   ],
   "source": [
    "example_datapoint['keywords'].split(';')"
   ]
  },
  {
   "cell_type": "code",
   "execution_count": 8,
   "id": "81d1797d-e5f0-4c59-ba0d-070abea81966",
   "metadata": {},
   "outputs": [
    {
     "data": {
      "text/plain": [
       "pmid           0\n",
       "journal        0\n",
       "title          0\n",
       "abstract       0\n",
       "keywords    5992\n",
       "pub_type       0\n",
       "authors      101\n",
       "doi          554\n",
       "label          0\n",
       "dtype: int64"
      ]
     },
     "execution_count": 8,
     "metadata": {},
     "output_type": "execute_result"
    }
   ],
   "source": [
    "# check for null values\n",
    "train_data.isna().sum()"
   ]
  },
  {
   "cell_type": "code",
   "execution_count": 9,
   "id": "46ea92ae-42fa-475d-ad61-50b5ea6f2b83",
   "metadata": {},
   "outputs": [],
   "source": [
    "#We can see that abstract is always there, but in some cases, keywords, author list, and doi is not there"
   ]
  },
  {
   "cell_type": "code",
   "execution_count": 10,
   "id": "5f49aacc-b6d6-4ad5-9f37-7228491af13c",
   "metadata": {},
   "outputs": [
    {
     "data": {
      "text/plain": [
       "pmid         int64\n",
       "journal     object\n",
       "title       object\n",
       "abstract    object\n",
       "keywords    object\n",
       "pub_type    object\n",
       "authors     object\n",
       "doi         object\n",
       "label       object\n",
       "dtype: object"
      ]
     },
     "execution_count": 10,
     "metadata": {},
     "output_type": "execute_result"
    }
   ],
   "source": [
    "train_data.dtypes"
   ]
  },
  {
   "cell_type": "code",
   "execution_count": 11,
   "id": "1f43370f-d10c-41dd-bc64-eefe52e400c4",
   "metadata": {},
   "outputs": [],
   "source": [
    "processed_train_data = pd.DataFrame()\n",
    "def split(string):\n",
    "    return str(string).split(';')\n",
    "processed_train_data['keywords']=train_data['keywords'].apply(split)\n",
    "processed_train_data['authors']=train_data['authors'].apply(split)\n",
    "processed_train_data['pub_type']=train_data['pub_type'].apply(split)\n",
    "processed_train_data['label']=train_data['label'].apply(split)\n",
    "processed_train_data['journal']=train_data['journal']\n",
    "processed_train_data['title']=train_data['title']\n",
    "processed_train_data['abstract']=train_data['abstract']\n",
    "processed_train_data['doi']=train_data['doi']\n",
    "\n"
   ]
  },
  {
   "cell_type": "code",
   "execution_count": 12,
   "id": "a73b7f81-d694-4279-a7a9-f8ed583b79ae",
   "metadata": {},
   "outputs": [
    {
     "data": {
      "text/html": [
       "<div>\n",
       "<style scoped>\n",
       "    .dataframe tbody tr th:only-of-type {\n",
       "        vertical-align: middle;\n",
       "    }\n",
       "\n",
       "    .dataframe tbody tr th {\n",
       "        vertical-align: top;\n",
       "    }\n",
       "\n",
       "    .dataframe thead th {\n",
       "        text-align: right;\n",
       "    }\n",
       "</style>\n",
       "<table border=\"1\" class=\"dataframe\">\n",
       "  <thead>\n",
       "    <tr style=\"text-align: right;\">\n",
       "      <th></th>\n",
       "      <th>keywords</th>\n",
       "      <th>authors</th>\n",
       "      <th>pub_type</th>\n",
       "      <th>label</th>\n",
       "      <th>journal</th>\n",
       "      <th>title</th>\n",
       "      <th>abstract</th>\n",
       "      <th>doi</th>\n",
       "    </tr>\n",
       "  </thead>\n",
       "  <tbody>\n",
       "    <tr>\n",
       "      <th>0</th>\n",
       "      <td>[covid-19, il-6, sars-cov-2, tnf-alpha, thromb...</td>\n",
       "      <td>[Bautista-Vargas, Mario, Bonilla-Abadia, Fabio...</td>\n",
       "      <td>[Journal Article, Review]</td>\n",
       "      <td>[Treatment, Mechanism]</td>\n",
       "      <td>J Thromb Thrombolysis</td>\n",
       "      <td>Potential role for tissue factor in the pathog...</td>\n",
       "      <td>In December 2019, a new and highly contagious ...</td>\n",
       "      <td>10.1007/s11239-020-02172-x</td>\n",
       "    </tr>\n",
       "    <tr>\n",
       "      <th>1</th>\n",
       "      <td>[covid-19, coronavirus, dietary therapy, herba...</td>\n",
       "      <td>[Panyod, Suraphan, Ho, Chi-Tang, Sheen, Lee-Yan]</td>\n",
       "      <td>[Journal Article, Review]</td>\n",
       "      <td>[Treatment, Prevention]</td>\n",
       "      <td>J Tradit Complement Med</td>\n",
       "      <td>Dietary therapy and herbal medicine for COVID-...</td>\n",
       "      <td>A novel coronavirus disease (COVID-19), transm...</td>\n",
       "      <td>10.1016/j.jtcme.2020.05.004</td>\n",
       "    </tr>\n",
       "    <tr>\n",
       "      <th>2</th>\n",
       "      <td>[cerebrospinal fluid, igg, manic-like symptoms...</td>\n",
       "      <td>[Lu, Shaojia, Wei, Ning, Jiang, Jiajun, Wu, Li...</td>\n",
       "      <td>[Case Reports, Journal Article]</td>\n",
       "      <td>[Case Report]</td>\n",
       "      <td>J Affect Disord</td>\n",
       "      <td>First report of manic-like symptoms in a COVID...</td>\n",
       "      <td>BACKGROUND: In December 2019, the novel corona...</td>\n",
       "      <td>10.1016/j.jad.2020.08.031</td>\n",
       "    </tr>\n",
       "    <tr>\n",
       "      <th>3</th>\n",
       "      <td>[dental education, dental public health, infec...</td>\n",
       "      <td>[Meng, L, Ma, B, Cheng, Y, Bian, Z]</td>\n",
       "      <td>[Journal Article, Research Support, Non-U.S. G...</td>\n",
       "      <td>[Prevention]</td>\n",
       "      <td>J Dent Res</td>\n",
       "      <td>Epidemiological Investigation of OHCWs with CO...</td>\n",
       "      <td>During the coronavirus disease 2019 (COVID-19)...</td>\n",
       "      <td>10.1177/0022034520962087</td>\n",
       "    </tr>\n",
       "    <tr>\n",
       "      <th>4</th>\n",
       "      <td>[nan]</td>\n",
       "      <td>[Eslami, Gholamali, Mousaviasl, Sajedeh, Radma...</td>\n",
       "      <td>[Journal Article, Randomized Controlled Trial,...</td>\n",
       "      <td>[Treatment]</td>\n",
       "      <td>J Antimicrob Chemother</td>\n",
       "      <td>The impact of sofosbuvir/daclatasvir or ribavi...</td>\n",
       "      <td>OBJECTIVES: Sofosbuvir and daclatasvir are dir...</td>\n",
       "      <td>10.1093/jac/dkaa331</td>\n",
       "    </tr>\n",
       "    <tr>\n",
       "      <th>...</th>\n",
       "      <td>...</td>\n",
       "      <td>...</td>\n",
       "      <td>...</td>\n",
       "      <td>...</td>\n",
       "      <td>...</td>\n",
       "      <td>...</td>\n",
       "      <td>...</td>\n",
       "      <td>...</td>\n",
       "    </tr>\n",
       "    <tr>\n",
       "      <th>24955</th>\n",
       "      <td>[coronavirus, football, illness, soccer, train...</td>\n",
       "      <td>[Eirale, Cristiano, Bisciotti, Giannicola, Cor...</td>\n",
       "      <td>[Journal Article, Review]</td>\n",
       "      <td>[Prevention]</td>\n",
       "      <td>Biol Sport</td>\n",
       "      <td>Medical recommendations for home-confined foot...</td>\n",
       "      <td>In early 2020, the world is facing a global em...</td>\n",
       "      <td>10.5114/biolsport.2020.94348</td>\n",
       "    </tr>\n",
       "    <tr>\n",
       "      <th>24956</th>\n",
       "      <td>[nan]</td>\n",
       "      <td>[Blain, Maxime, T Kassin, Michael, Varble, Nic...</td>\n",
       "      <td>[Journal Article]</td>\n",
       "      <td>[Diagnosis]</td>\n",
       "      <td>Diagn Interv Radiol</td>\n",
       "      <td>Determination of disease severity in COVID-19 ...</td>\n",
       "      <td>PURPOSE: Chest X-ray plays a key role in diagn...</td>\n",
       "      <td>10.5152/dir.2020.20205</td>\n",
       "    </tr>\n",
       "    <tr>\n",
       "      <th>24957</th>\n",
       "      <td>[coronavirus disease 2019, disease outcome, el...</td>\n",
       "      <td>[Tezcan, M E, Dogan Gokce, G, Sen, N, Zorlutun...</td>\n",
       "      <td>[Journal Article]</td>\n",
       "      <td>[Treatment, Diagnosis]</td>\n",
       "      <td>New Microbes New Infect</td>\n",
       "      <td>Baseline electrolyte abnormalities would be re...</td>\n",
       "      <td>Electrolyte abnormalities are not uncommon in ...</td>\n",
       "      <td>10.1016/j.nmni.2020.100753</td>\n",
       "    </tr>\n",
       "    <tr>\n",
       "      <th>24958</th>\n",
       "      <td>[covid-19, sars-cov-2, health system resources...</td>\n",
       "      <td>[Dayal, Ashlesha K, Razavi, Armin S, Jaffer, A...</td>\n",
       "      <td>[Journal Article, Review]</td>\n",
       "      <td>[Prevention]</td>\n",
       "      <td>J Perinat Med</td>\n",
       "      <td>COVID-19 in obstetrics 2020: the experience at...</td>\n",
       "      <td>The global spread of the SARS-CoV-2 virus duri...</td>\n",
       "      <td>10.1515/jpm-2020-0365</td>\n",
       "    </tr>\n",
       "    <tr>\n",
       "      <th>24959</th>\n",
       "      <td>[covid-19, on-line information, readability]</td>\n",
       "      <td>[Basch, Corey H, Mohlman, Jan, Hillyer, Grace ...</td>\n",
       "      <td>[Journal Article, Review]</td>\n",
       "      <td>[Prevention]</td>\n",
       "      <td>Disaster Med Public Health Prep</td>\n",
       "      <td>Public Health Communication in Time of Crisis:...</td>\n",
       "      <td>OBJECTIVE: The purpose of this study was to as...</td>\n",
       "      <td>10.1017/dmp.2020.151</td>\n",
       "    </tr>\n",
       "  </tbody>\n",
       "</table>\n",
       "<p>24960 rows × 8 columns</p>\n",
       "</div>"
      ],
      "text/plain": [
       "                                                keywords  \\\n",
       "0      [covid-19, il-6, sars-cov-2, tnf-alpha, thromb...   \n",
       "1      [covid-19, coronavirus, dietary therapy, herba...   \n",
       "2      [cerebrospinal fluid, igg, manic-like symptoms...   \n",
       "3      [dental education, dental public health, infec...   \n",
       "4                                                  [nan]   \n",
       "...                                                  ...   \n",
       "24955  [coronavirus, football, illness, soccer, train...   \n",
       "24956                                              [nan]   \n",
       "24957  [coronavirus disease 2019, disease outcome, el...   \n",
       "24958  [covid-19, sars-cov-2, health system resources...   \n",
       "24959       [covid-19, on-line information, readability]   \n",
       "\n",
       "                                                 authors  \\\n",
       "0      [Bautista-Vargas, Mario, Bonilla-Abadia, Fabio...   \n",
       "1       [Panyod, Suraphan, Ho, Chi-Tang, Sheen, Lee-Yan]   \n",
       "2      [Lu, Shaojia, Wei, Ning, Jiang, Jiajun, Wu, Li...   \n",
       "3                    [Meng, L, Ma, B, Cheng, Y, Bian, Z]   \n",
       "4      [Eslami, Gholamali, Mousaviasl, Sajedeh, Radma...   \n",
       "...                                                  ...   \n",
       "24955  [Eirale, Cristiano, Bisciotti, Giannicola, Cor...   \n",
       "24956  [Blain, Maxime, T Kassin, Michael, Varble, Nic...   \n",
       "24957  [Tezcan, M E, Dogan Gokce, G, Sen, N, Zorlutun...   \n",
       "24958  [Dayal, Ashlesha K, Razavi, Armin S, Jaffer, A...   \n",
       "24959  [Basch, Corey H, Mohlman, Jan, Hillyer, Grace ...   \n",
       "\n",
       "                                                pub_type  \\\n",
       "0                              [Journal Article, Review]   \n",
       "1                              [Journal Article, Review]   \n",
       "2                        [Case Reports, Journal Article]   \n",
       "3      [Journal Article, Research Support, Non-U.S. G...   \n",
       "4      [Journal Article, Randomized Controlled Trial,...   \n",
       "...                                                  ...   \n",
       "24955                          [Journal Article, Review]   \n",
       "24956                                  [Journal Article]   \n",
       "24957                                  [Journal Article]   \n",
       "24958                          [Journal Article, Review]   \n",
       "24959                          [Journal Article, Review]   \n",
       "\n",
       "                         label                          journal  \\\n",
       "0       [Treatment, Mechanism]            J Thromb Thrombolysis   \n",
       "1      [Treatment, Prevention]          J Tradit Complement Med   \n",
       "2                [Case Report]                  J Affect Disord   \n",
       "3                 [Prevention]                       J Dent Res   \n",
       "4                  [Treatment]           J Antimicrob Chemother   \n",
       "...                        ...                              ...   \n",
       "24955             [Prevention]                       Biol Sport   \n",
       "24956              [Diagnosis]              Diagn Interv Radiol   \n",
       "24957   [Treatment, Diagnosis]          New Microbes New Infect   \n",
       "24958             [Prevention]                    J Perinat Med   \n",
       "24959             [Prevention]  Disaster Med Public Health Prep   \n",
       "\n",
       "                                                   title  \\\n",
       "0      Potential role for tissue factor in the pathog...   \n",
       "1      Dietary therapy and herbal medicine for COVID-...   \n",
       "2      First report of manic-like symptoms in a COVID...   \n",
       "3      Epidemiological Investigation of OHCWs with CO...   \n",
       "4      The impact of sofosbuvir/daclatasvir or ribavi...   \n",
       "...                                                  ...   \n",
       "24955  Medical recommendations for home-confined foot...   \n",
       "24956  Determination of disease severity in COVID-19 ...   \n",
       "24957  Baseline electrolyte abnormalities would be re...   \n",
       "24958  COVID-19 in obstetrics 2020: the experience at...   \n",
       "24959  Public Health Communication in Time of Crisis:...   \n",
       "\n",
       "                                                abstract  \\\n",
       "0      In December 2019, a new and highly contagious ...   \n",
       "1      A novel coronavirus disease (COVID-19), transm...   \n",
       "2      BACKGROUND: In December 2019, the novel corona...   \n",
       "3      During the coronavirus disease 2019 (COVID-19)...   \n",
       "4      OBJECTIVES: Sofosbuvir and daclatasvir are dir...   \n",
       "...                                                  ...   \n",
       "24955  In early 2020, the world is facing a global em...   \n",
       "24956  PURPOSE: Chest X-ray plays a key role in diagn...   \n",
       "24957  Electrolyte abnormalities are not uncommon in ...   \n",
       "24958  The global spread of the SARS-CoV-2 virus duri...   \n",
       "24959  OBJECTIVE: The purpose of this study was to as...   \n",
       "\n",
       "                                doi  \n",
       "0        10.1007/s11239-020-02172-x  \n",
       "1       10.1016/j.jtcme.2020.05.004  \n",
       "2         10.1016/j.jad.2020.08.031  \n",
       "3          10.1177/0022034520962087  \n",
       "4               10.1093/jac/dkaa331  \n",
       "...                             ...  \n",
       "24955  10.5114/biolsport.2020.94348  \n",
       "24956        10.5152/dir.2020.20205  \n",
       "24957    10.1016/j.nmni.2020.100753  \n",
       "24958         10.1515/jpm-2020-0365  \n",
       "24959          10.1017/dmp.2020.151  \n",
       "\n",
       "[24960 rows x 8 columns]"
      ]
     },
     "execution_count": 12,
     "metadata": {},
     "output_type": "execute_result"
    }
   ],
   "source": [
    "processed_train_data"
   ]
  },
  {
   "cell_type": "code",
   "execution_count": 13,
   "id": "c5138d7f-613c-42bc-88bf-8445f65b11ba",
   "metadata": {},
   "outputs": [],
   "source": [
    "from sklearn.preprocessing import MultiLabelBinarizer"
   ]
  },
  {
   "cell_type": "code",
   "execution_count": 14,
   "id": "341bde1a-6a50-47c2-a379-e9c1c49b5952",
   "metadata": {},
   "outputs": [
    {
     "name": "stdout",
     "output_type": "stream",
     "text": [
      "(24960, 7)\n",
      "['Case Report' 'Diagnosis' 'Epidemic Forecasting' 'Mechanism' 'Prevention'\n",
      " 'Transmission' 'Treatment']\n"
     ]
    }
   ],
   "source": [
    "label_mlb = MultiLabelBinarizer()\n",
    "label_mle = label_mlb.fit_transform(processed_train_data['label'])\n",
    "print(label_mle.shape)\n",
    "print(label_mlb.classes_)"
   ]
  },
  {
   "cell_type": "code",
   "execution_count": 15,
   "id": "10c934c9-4ec3-4a4d-b4b3-54c9da19644f",
   "metadata": {},
   "outputs": [
    {
     "data": {
      "text/plain": [
       "array([[0, 0, 0, 1, 0, 0, 1],\n",
       "       [0, 0, 0, 0, 1, 0, 1],\n",
       "       [1, 0, 0, 0, 0, 0, 0],\n",
       "       [0, 0, 0, 0, 1, 0, 0],\n",
       "       [0, 0, 0, 0, 0, 0, 1]])"
      ]
     },
     "execution_count": 15,
     "metadata": {},
     "output_type": "execute_result"
    }
   ],
   "source": [
    "label_mle[0:5]"
   ]
  },
  {
   "cell_type": "code",
   "execution_count": 34,
   "id": "e4ebde8a-0be1-4362-a56a-baf2b5cdf878",
   "metadata": {},
   "outputs": [
    {
     "name": "stdout",
     "output_type": "stream",
     "text": [
      "5\n"
     ]
    }
   ],
   "source": [
    "label_anal = np.sum(label_mle, axis=1)\n",
    "print(np.max(label_anal))"
   ]
  },
  {
   "cell_type": "code",
   "execution_count": 36,
   "id": "4dd41bc4-e531-45cf-b776-4c7698f09e55",
   "metadata": {},
   "outputs": [
    {
     "name": "stdout",
     "output_type": "stream",
     "text": [
      "[ 2063  6193   645  4438 11102  1088  8717]\n"
     ]
    }
   ],
   "source": [
    "label_anal = np.sum(label_mle, axis=0)\n",
    "print(label_anal)"
   ]
  },
  {
   "cell_type": "code",
   "execution_count": 16,
   "id": "e865ebea-a60a-4d8c-b711-6a01aa70921d",
   "metadata": {},
   "outputs": [
    {
     "name": "stdout",
     "output_type": "stream",
     "text": [
      "(24960, 142172)\n"
     ]
    }
   ],
   "source": [
    "author_mlb = MultiLabelBinarizer()\n",
    "author_mle = author_mlb.fit_transform(processed_train_data['authors'])\n",
    "print(author_mle.shape)"
   ]
  },
  {
   "cell_type": "code",
   "execution_count": 17,
   "id": "4114583c-a315-4c80-b22f-17e8535e265a",
   "metadata": {},
   "outputs": [
    {
     "name": "stdout",
     "output_type": "stream",
     "text": [
      "['A Aljabali, Alaa A' 'A Beccara, Lia' 'A Cienfuegos, Javier' ...\n",
      " 'von dem Knesebeck, Olaf' 'von der Thusen, Jan' 'von der Thusen, Jan H']\n"
     ]
    }
   ],
   "source": [
    "print(author_mlb.classes_)"
   ]
  },
  {
   "cell_type": "code",
   "execution_count": 58,
   "id": "08816aeb-a758-4dc8-9a26-c8ca17fb9b81",
   "metadata": {},
   "outputs": [
    {
     "name": "stdout",
     "output_type": "stream",
     "text": [
      "1015\n",
      "101\n"
     ]
    }
   ],
   "source": [
    "z = np.sum(author_mle, axis=1)\n",
    "z1 = np.sum(author_mle, axis=0)\n",
    "# print(np.argmax(z1))\n",
    "print(np.max(z))\n",
    "print(np.max(z1))"
   ]
  },
  {
   "cell_type": "code",
   "execution_count": 28,
   "id": "673d21a7-18a3-4579-bb93-f26cf5118651",
   "metadata": {},
   "outputs": [
    {
     "name": "stdout",
     "output_type": "stream",
     "text": [
      "21498\n",
      "1015\n"
     ]
    }
   ],
   "source": [
    "# print(np.argmax(z))"
   ]
  },
  {
   "cell_type": "code",
   "execution_count": 56,
   "id": "8e917395-205b-4d34-b841-fdab0eae62df",
   "metadata": {},
   "outputs": [
    {
     "name": "stdout",
     "output_type": "stream",
     "text": [
      "(24960,)\n"
     ]
    },
    {
     "data": {
      "text/plain": [
       "array([[1, 1, 1, 0, 1, 1, 1, 1, 1, 1, 1, 1, 1, 1, 0, 0],\n",
       "       [0, 0, 0, 1, 0, 0, 1, 1, 0, 0, 0, 0, 0, 0, 1, 1]])"
      ]
     },
     "execution_count": 56,
     "metadata": {},
     "output_type": "execute_result"
    }
   ],
   "source": [
    "mlb = MultiLabelBinarizer()\n",
    "processed_train_data['mlb_publication'] = processed_train_data['pub_type'].apply(mlb.fit_transform)\n",
    "# mle = mlb.fit_transform(processed_train_data['pub_type'])\n",
    "print(processed_train_data['mlb_publication'].shape)\n",
    "processed_train_data['mlb_publication'][0]"
   ]
  },
  {
   "cell_type": "code",
   "execution_count": 54,
   "id": "54e045a7-7d1a-4ffe-8b07-c6123f89019f",
   "metadata": {},
   "outputs": [
    {
     "data": {
      "text/plain": [
       "['Journal Article', 'Review']"
      ]
     },
     "execution_count": 57,
     "metadata": {},
     "output_type": "execute_result"
    }
   ],
   "source": [
    "processed_train_data['pub_type'][0]"
   ]
  },
  {
   "cell_type": "code",
   "execution_count": 40,
   "id": "8e230837-2524-4c8c-88bf-b324f803385d",
   "metadata": {},
   "outputs": [
    {
     "name": "stdout",
     "output_type": "stream",
     "text": [
      "['Adaptive Clinical Trial' 'Book' 'Book Chapter' 'Case Reports'\n",
      " 'Clinical Conference' 'Clinical Study' 'Clinical Trial'\n",
      " 'Clinical Trial Protocol' 'Clinical Trial, Phase I'\n",
      " 'Clinical Trial, Phase II' 'Clinical Trial, Phase III'\n",
      " 'Clinical Trial, Phase IV' 'Comment' 'Comparative Study' 'Congress'\n",
      " 'Consensus Development Conference' 'Controlled Clinical Trial' 'Dataset'\n",
      " 'Editorial' 'English Abstract' 'Equivalence Trial' 'Evaluation Study'\n",
      " 'Guideline' 'Historical Article' 'Interview'\n",
      " 'Introductory Journal Article' 'Journal Article' 'Lecture' 'Letter'\n",
      " 'Meta-Analysis' 'Multicenter Study' 'News' 'Observational Study'\n",
      " 'Personal Narrative' 'Practice Guideline' 'Pragmatic Clinical Trial'\n",
      " 'Published Erratum' 'Randomized Controlled Trial'\n",
      " 'Research Support, N.I.H., Extramural'\n",
      " 'Research Support, N.I.H., Intramural' \"Research Support, Non-U.S. Gov't\"\n",
      " \"Research Support, U.S. Gov't, Non-P.H.S.\"\n",
      " \"Research Support, U.S. Gov't, P.H.S.\" 'Retracted Publication'\n",
      " 'Retraction of Publication' 'Review' 'Systematic Review'\n",
      " 'Technical Report' 'Validation Study' 'Video-Audio Media']\n"
     ]
    }
   ],
   "source": [
    "print(mlb.classes_)"
   ]
  },
  {
   "cell_type": "code",
   "execution_count": 37,
   "id": "44e4ce10-a337-450f-8d71-13469128decb",
   "metadata": {},
   "outputs": [],
   "source": [
    "import scipy\n"
   ]
  },
  {
   "cell_type": "code",
   "execution_count": 61,
   "id": "3d68c662-9c0a-4ae4-b10b-60a398a53c22",
   "metadata": {},
   "outputs": [],
   "source": [
    "output_labels = pd.DataFrame(label_mle,columns=label_mlb.classes_)"
   ]
  },
  {
   "cell_type": "code",
   "execution_count": 64,
   "id": "7b46e52a-0eaf-4059-87ef-4aad70f67d8c",
   "metadata": {},
   "outputs": [],
   "source": [
    "correlation = output_labels.corr()"
   ]
  },
  {
   "cell_type": "code",
   "execution_count": 65,
   "id": "f13f6ffd-d5b6-421a-ac7d-b82347400389",
   "metadata": {},
   "outputs": [
    {
     "ename": "ModuleNotFoundError",
     "evalue": "No module named 'seaborn'",
     "output_type": "error",
     "traceback": [
      "\u001b[1;31m---------------------------------------------------------------------------\u001b[0m",
      "\u001b[1;31mModuleNotFoundError\u001b[0m                       Traceback (most recent call last)",
      "\u001b[1;32m~\\AppData\\Local\\Temp/ipykernel_24924/3377179655.py\u001b[0m in \u001b[0;36m<module>\u001b[1;34m\u001b[0m\n\u001b[1;32m----> 1\u001b[1;33m \u001b[1;32mimport\u001b[0m \u001b[0mseaborn\u001b[0m \u001b[1;32mas\u001b[0m \u001b[0msb\u001b[0m\u001b[1;33m\u001b[0m\u001b[1;33m\u001b[0m\u001b[0m\n\u001b[0m\u001b[0;32m      2\u001b[0m \u001b[1;33m\u001b[0m\u001b[0m\n\u001b[0;32m      3\u001b[0m \u001b[0msb\u001b[0m\u001b[1;33m.\u001b[0m\u001b[0mheatmap\u001b[0m\u001b[1;33m(\u001b[0m\u001b[0mcorrelation_mat\u001b[0m\u001b[1;33m,\u001b[0m \u001b[0mannot\u001b[0m \u001b[1;33m=\u001b[0m \u001b[1;32mTrue\u001b[0m\u001b[1;33m)\u001b[0m\u001b[1;33m\u001b[0m\u001b[1;33m\u001b[0m\u001b[0m\n",
      "\u001b[1;31mModuleNotFoundError\u001b[0m: No module named 'seaborn'"
     ]
    }
   ],
   "source": [
    "import seaborn as sb\n",
    "\n",
    "sb.heatmap(correlation_mat, annot = True)"
   ]
  },
  {
   "cell_type": "code",
   "execution_count": null,
   "id": "4db56911-3ba4-46ff-996a-582ad1b91771",
   "metadata": {},
   "outputs": [],
   "source": []
  }
 ],
 "metadata": {
  "kernelspec": {
   "display_name": "Python 3 (ipykernel)",
   "language": "python",
   "name": "python3"
  },
  "language_info": {
   "codemirror_mode": {
    "name": "ipython",
    "version": 3
   },
   "file_extension": ".py",
   "mimetype": "text/x-python",
   "name": "python",
   "nbconvert_exporter": "python",
   "pygments_lexer": "ipython3",
   "version": "3.9.6"
  }
 },
 "nbformat": 4,
 "nbformat_minor": 5
}
