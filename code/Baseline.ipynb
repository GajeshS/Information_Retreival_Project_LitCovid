{
 "cells": [
  {
   "cell_type": "code",
   "execution_count": 1,
   "metadata": {
    "id": "2497be30-9c96-40cd-993a-71d94640c69f"
   },
   "outputs": [],
   "source": [
    "import numpy as np\n",
    "import pandas as pd\n",
    "from simpletransformers.classification import MultiLabelClassificationModel, MultiLabelClassificationArgs"
   ]
  },
  {
   "cell_type": "code",
   "execution_count": 2,
   "metadata": {
    "id": "f0662b43-3e49-4a2e-98d8-058fb67170c3"
   },
   "outputs": [],
   "source": [
    "from sklearn.model_selection import train_test_split\n",
    "from sklearn.preprocessing import MultiLabelBinarizer\n",
    "from sklearn.metrics import f1_score"
   ]
  },
  {
   "cell_type": "code",
   "execution_count": 3,
   "metadata": {
    "id": "12c8a984-fc11-4cc0-96f4-d9fcc9b0a069"
   },
   "outputs": [],
   "source": [
    "# train_data = pd.read_csv('/content/drive/MyDrive/Information Retrieval/BC7-LitCovid-Train.csv')\n",
    "train_data = pd.read_csv('BC7-LitCovid-Train.csv')"
   ]
  },
  {
   "cell_type": "code",
   "execution_count": 4,
   "metadata": {
    "id": "864d9b15-9501-42b1-b3dd-8ac6295e5b5f"
   },
   "outputs": [],
   "source": [
    "processed_train_data = pd.DataFrame()\n",
    "def split(string):\n",
    "    return str(string).split(';')\n",
    "\n",
    "processed_train_data['labels']=train_data['label'].apply(split)\n",
    "processed_train_data['text']=train_data['abstract']\n",
    "\n"
   ]
  },
  {
   "cell_type": "code",
   "execution_count": 5,
   "metadata": {
    "colab": {
     "base_uri": "https://localhost:8080/",
     "height": 206
    },
    "id": "572eef5d-e937-4466-a1be-1ec7dd5278b4",
    "outputId": "ed01cf8a-afee-4695-cdee-b39eb337afd7"
   },
   "outputs": [
    {
     "data": {
      "text/html": [
       "<div>\n",
       "<style scoped>\n",
       "    .dataframe tbody tr th:only-of-type {\n",
       "        vertical-align: middle;\n",
       "    }\n",
       "\n",
       "    .dataframe tbody tr th {\n",
       "        vertical-align: top;\n",
       "    }\n",
       "\n",
       "    .dataframe thead th {\n",
       "        text-align: right;\n",
       "    }\n",
       "</style>\n",
       "<table border=\"1\" class=\"dataframe\">\n",
       "  <thead>\n",
       "    <tr style=\"text-align: right;\">\n",
       "      <th></th>\n",
       "      <th>labels</th>\n",
       "      <th>text</th>\n",
       "    </tr>\n",
       "  </thead>\n",
       "  <tbody>\n",
       "    <tr>\n",
       "      <th>0</th>\n",
       "      <td>[Treatment, Mechanism]</td>\n",
       "      <td>In December 2019, a new and highly contagious ...</td>\n",
       "    </tr>\n",
       "    <tr>\n",
       "      <th>1</th>\n",
       "      <td>[Treatment, Prevention]</td>\n",
       "      <td>A novel coronavirus disease (COVID-19), transm...</td>\n",
       "    </tr>\n",
       "    <tr>\n",
       "      <th>2</th>\n",
       "      <td>[Case Report]</td>\n",
       "      <td>BACKGROUND: In December 2019, the novel corona...</td>\n",
       "    </tr>\n",
       "    <tr>\n",
       "      <th>3</th>\n",
       "      <td>[Prevention]</td>\n",
       "      <td>During the coronavirus disease 2019 (COVID-19)...</td>\n",
       "    </tr>\n",
       "    <tr>\n",
       "      <th>4</th>\n",
       "      <td>[Treatment]</td>\n",
       "      <td>OBJECTIVES: Sofosbuvir and daclatasvir are dir...</td>\n",
       "    </tr>\n",
       "  </tbody>\n",
       "</table>\n",
       "</div>"
      ],
      "text/plain": [
       "                    labels                                               text\n",
       "0   [Treatment, Mechanism]  In December 2019, a new and highly contagious ...\n",
       "1  [Treatment, Prevention]  A novel coronavirus disease (COVID-19), transm...\n",
       "2            [Case Report]  BACKGROUND: In December 2019, the novel corona...\n",
       "3             [Prevention]  During the coronavirus disease 2019 (COVID-19)...\n",
       "4              [Treatment]  OBJECTIVES: Sofosbuvir and daclatasvir are dir..."
      ]
     },
     "execution_count": 5,
     "metadata": {},
     "output_type": "execute_result"
    }
   ],
   "source": [
    "processed_train_data.head()"
   ]
  },
  {
   "cell_type": "code",
   "execution_count": 6,
   "metadata": {
    "colab": {
     "base_uri": "https://localhost:8080/"
    },
    "id": "5691b986-f122-4c30-b0c9-66495729a5dc",
    "outputId": "09fd7516-cd1b-4a7c-e216-7dff46e3aa4f"
   },
   "outputs": [
    {
     "name": "stdout",
     "output_type": "stream",
     "text": [
      "(24960, 7)\n",
      "['Case Report' 'Diagnosis' 'Epidemic Forecasting' 'Mechanism' 'Prevention'\n",
      " 'Transmission' 'Treatment']\n"
     ]
    }
   ],
   "source": [
    "label_mlb = MultiLabelBinarizer()\n",
    "label_mle = label_mlb.fit_transform(processed_train_data['labels'])\n",
    "print(label_mle.shape)\n",
    "print(label_mlb.classes_)"
   ]
  },
  {
   "cell_type": "code",
   "execution_count": 7,
   "metadata": {
    "id": "3d74371a-cd9e-4625-8b82-e4b10bbbbcc8"
   },
   "outputs": [],
   "source": [
    "processed_train_data['labels'] = label_mle.tolist()"
   ]
  },
  {
   "cell_type": "code",
   "execution_count": 8,
   "metadata": {
    "colab": {
     "base_uri": "https://localhost:8080/",
     "height": 206
    },
    "id": "163b4ce6-944d-4176-bc38-026141a818db",
    "outputId": "28e779b6-acee-4cbd-fbf6-060db9316d03"
   },
   "outputs": [
    {
     "data": {
      "text/html": [
       "<div>\n",
       "<style scoped>\n",
       "    .dataframe tbody tr th:only-of-type {\n",
       "        vertical-align: middle;\n",
       "    }\n",
       "\n",
       "    .dataframe tbody tr th {\n",
       "        vertical-align: top;\n",
       "    }\n",
       "\n",
       "    .dataframe thead th {\n",
       "        text-align: right;\n",
       "    }\n",
       "</style>\n",
       "<table border=\"1\" class=\"dataframe\">\n",
       "  <thead>\n",
       "    <tr style=\"text-align: right;\">\n",
       "      <th></th>\n",
       "      <th>labels</th>\n",
       "      <th>text</th>\n",
       "    </tr>\n",
       "  </thead>\n",
       "  <tbody>\n",
       "    <tr>\n",
       "      <th>0</th>\n",
       "      <td>[0, 0, 0, 1, 0, 0, 1]</td>\n",
       "      <td>In December 2019, a new and highly contagious ...</td>\n",
       "    </tr>\n",
       "    <tr>\n",
       "      <th>1</th>\n",
       "      <td>[0, 0, 0, 0, 1, 0, 1]</td>\n",
       "      <td>A novel coronavirus disease (COVID-19), transm...</td>\n",
       "    </tr>\n",
       "    <tr>\n",
       "      <th>2</th>\n",
       "      <td>[1, 0, 0, 0, 0, 0, 0]</td>\n",
       "      <td>BACKGROUND: In December 2019, the novel corona...</td>\n",
       "    </tr>\n",
       "    <tr>\n",
       "      <th>3</th>\n",
       "      <td>[0, 0, 0, 0, 1, 0, 0]</td>\n",
       "      <td>During the coronavirus disease 2019 (COVID-19)...</td>\n",
       "    </tr>\n",
       "    <tr>\n",
       "      <th>4</th>\n",
       "      <td>[0, 0, 0, 0, 0, 0, 1]</td>\n",
       "      <td>OBJECTIVES: Sofosbuvir and daclatasvir are dir...</td>\n",
       "    </tr>\n",
       "  </tbody>\n",
       "</table>\n",
       "</div>"
      ],
      "text/plain": [
       "                  labels                                               text\n",
       "0  [0, 0, 0, 1, 0, 0, 1]  In December 2019, a new and highly contagious ...\n",
       "1  [0, 0, 0, 0, 1, 0, 1]  A novel coronavirus disease (COVID-19), transm...\n",
       "2  [1, 0, 0, 0, 0, 0, 0]  BACKGROUND: In December 2019, the novel corona...\n",
       "3  [0, 0, 0, 0, 1, 0, 0]  During the coronavirus disease 2019 (COVID-19)...\n",
       "4  [0, 0, 0, 0, 0, 0, 1]  OBJECTIVES: Sofosbuvir and daclatasvir are dir..."
      ]
     },
     "execution_count": 8,
     "metadata": {},
     "output_type": "execute_result"
    }
   ],
   "source": [
    "processed_train_data.head()"
   ]
  },
  {
   "cell_type": "code",
   "execution_count": 9,
   "metadata": {
    "id": "61a95f34-3c1f-405e-ae17-9818b2b9f0b4"
   },
   "outputs": [],
   "source": [
    "X_train, X_test, Y_train, Y_test = train_test_split(processed_train_data['text'], processed_train_data['labels'],test_size=1000)"
   ]
  },
  {
   "cell_type": "code",
   "execution_count": 10,
   "metadata": {
    "colab": {
     "base_uri": "https://localhost:8080/"
    },
    "id": "740bb919-63c5-4a77-a03b-e105f7194508",
    "outputId": "0a2030d8-92a6-4de6-c016-4a4aad0c4f0c"
   },
   "outputs": [
    {
     "data": {
      "text/plain": [
       "7224     Objective: To study the early dynamics of the ...\n",
       "11111    The coronavirus disease-19 (COVID-19) global p...\n",
       "5201     The novel Coronavirus (CoVid-19) outbreak is n...\n",
       "16642    COVID-19 has led to disruption in routine immu...\n",
       "7388     The coronavirus SARS-CoV-2 was identified as t...\n",
       "                               ...                        \n",
       "5202     COVID-19 emerged in late 2019 and has rapidly ...\n",
       "20200    PURPOSE: To study propensity of aerosol and dr...\n",
       "24773    Several months into the ongoing novel coronavi...\n",
       "7684     The clinical and laboratory features of COVID-...\n",
       "8439     The clinical spectrum of COVID-19 is still not...\n",
       "Name: text, Length: 1000, dtype: object"
      ]
     },
     "execution_count": 10,
     "metadata": {},
     "output_type": "execute_result"
    }
   ],
   "source": [
    "X_test\n"
   ]
  },
  {
   "cell_type": "code",
   "execution_count": 11,
   "metadata": {
    "id": "b666aeca-3631-4276-aae3-3360e10b0309"
   },
   "outputs": [],
   "source": [
    "train = pd.DataFrame()\n",
    "train['text'] = X_train\n",
    "train['labels'] = Y_train\n",
    "\n",
    "test = pd.DataFrame()\n",
    "test['text'] = X_test\n",
    "test['labels'] = Y_test"
   ]
  },
  {
   "cell_type": "code",
   "execution_count": 12,
   "metadata": {
    "colab": {
     "base_uri": "https://localhost:8080/",
     "height": 206
    },
    "id": "1c17e3ae-26a1-42c3-9ff4-49d8d2a7de3f",
    "outputId": "175bb321-3b82-496e-d232-2d2707cb2e99"
   },
   "outputs": [
    {
     "data": {
      "text/html": [
       "<div>\n",
       "<style scoped>\n",
       "    .dataframe tbody tr th:only-of-type {\n",
       "        vertical-align: middle;\n",
       "    }\n",
       "\n",
       "    .dataframe tbody tr th {\n",
       "        vertical-align: top;\n",
       "    }\n",
       "\n",
       "    .dataframe thead th {\n",
       "        text-align: right;\n",
       "    }\n",
       "</style>\n",
       "<table border=\"1\" class=\"dataframe\">\n",
       "  <thead>\n",
       "    <tr style=\"text-align: right;\">\n",
       "      <th></th>\n",
       "      <th>text</th>\n",
       "      <th>labels</th>\n",
       "    </tr>\n",
       "  </thead>\n",
       "  <tbody>\n",
       "    <tr>\n",
       "      <th>23481</th>\n",
       "      <td>The COVID-19 pandemic exacerbates existing hea...</td>\n",
       "      <td>[0, 0, 0, 0, 1, 0, 0]</td>\n",
       "    </tr>\n",
       "    <tr>\n",
       "      <th>19195</th>\n",
       "      <td>The COVID-19 pandemic will present a range of ...</td>\n",
       "      <td>[0, 0, 0, 0, 1, 0, 0]</td>\n",
       "    </tr>\n",
       "    <tr>\n",
       "      <th>3055</th>\n",
       "      <td>The World Health Organization has declared nov...</td>\n",
       "      <td>[1, 0, 0, 0, 0, 0, 0]</td>\n",
       "    </tr>\n",
       "    <tr>\n",
       "      <th>6063</th>\n",
       "      <td>Identifying drugs effective in the new coronav...</td>\n",
       "      <td>[0, 0, 0, 1, 0, 0, 1]</td>\n",
       "    </tr>\n",
       "    <tr>\n",
       "      <th>16755</th>\n",
       "      <td>We present a three-dimensional (3D) approach f...</td>\n",
       "      <td>[0, 1, 0, 0, 0, 0, 0]</td>\n",
       "    </tr>\n",
       "  </tbody>\n",
       "</table>\n",
       "</div>"
      ],
      "text/plain": [
       "                                                    text  \\\n",
       "23481  The COVID-19 pandemic exacerbates existing hea...   \n",
       "19195  The COVID-19 pandemic will present a range of ...   \n",
       "3055   The World Health Organization has declared nov...   \n",
       "6063   Identifying drugs effective in the new coronav...   \n",
       "16755  We present a three-dimensional (3D) approach f...   \n",
       "\n",
       "                      labels  \n",
       "23481  [0, 0, 0, 0, 1, 0, 0]  \n",
       "19195  [0, 0, 0, 0, 1, 0, 0]  \n",
       "3055   [1, 0, 0, 0, 0, 0, 0]  \n",
       "6063   [0, 0, 0, 1, 0, 0, 1]  \n",
       "16755  [0, 1, 0, 0, 0, 0, 0]  "
      ]
     },
     "execution_count": 12,
     "metadata": {},
     "output_type": "execute_result"
    }
   ],
   "source": [
    "train.head()"
   ]
  },
  {
   "cell_type": "code",
   "execution_count": 13,
   "metadata": {
    "colab": {
     "base_uri": "https://localhost:8080/",
     "height": 206
    },
    "id": "7023da9d-8f3d-4b59-a1d9-15ce46b8799a",
    "outputId": "edfb2574-0977-44fa-b0ac-f68110fc60f0"
   },
   "outputs": [
    {
     "data": {
      "text/html": [
       "<div>\n",
       "<style scoped>\n",
       "    .dataframe tbody tr th:only-of-type {\n",
       "        vertical-align: middle;\n",
       "    }\n",
       "\n",
       "    .dataframe tbody tr th {\n",
       "        vertical-align: top;\n",
       "    }\n",
       "\n",
       "    .dataframe thead th {\n",
       "        text-align: right;\n",
       "    }\n",
       "</style>\n",
       "<table border=\"1\" class=\"dataframe\">\n",
       "  <thead>\n",
       "    <tr style=\"text-align: right;\">\n",
       "      <th></th>\n",
       "      <th>text</th>\n",
       "      <th>labels</th>\n",
       "    </tr>\n",
       "  </thead>\n",
       "  <tbody>\n",
       "    <tr>\n",
       "      <th>7224</th>\n",
       "      <td>Objective: To study the early dynamics of the ...</td>\n",
       "      <td>[0, 0, 1, 0, 0, 0, 0]</td>\n",
       "    </tr>\n",
       "    <tr>\n",
       "      <th>11111</th>\n",
       "      <td>The coronavirus disease-19 (COVID-19) global p...</td>\n",
       "      <td>[0, 0, 0, 0, 1, 0, 0]</td>\n",
       "    </tr>\n",
       "    <tr>\n",
       "      <th>5201</th>\n",
       "      <td>The novel Coronavirus (CoVid-19) outbreak is n...</td>\n",
       "      <td>[0, 0, 0, 0, 1, 0, 0]</td>\n",
       "    </tr>\n",
       "    <tr>\n",
       "      <th>16642</th>\n",
       "      <td>COVID-19 has led to disruption in routine immu...</td>\n",
       "      <td>[0, 0, 0, 0, 1, 0, 0]</td>\n",
       "    </tr>\n",
       "    <tr>\n",
       "      <th>7388</th>\n",
       "      <td>The coronavirus SARS-CoV-2 was identified as t...</td>\n",
       "      <td>[0, 1, 0, 1, 0, 0, 1]</td>\n",
       "    </tr>\n",
       "  </tbody>\n",
       "</table>\n",
       "</div>"
      ],
      "text/plain": [
       "                                                    text  \\\n",
       "7224   Objective: To study the early dynamics of the ...   \n",
       "11111  The coronavirus disease-19 (COVID-19) global p...   \n",
       "5201   The novel Coronavirus (CoVid-19) outbreak is n...   \n",
       "16642  COVID-19 has led to disruption in routine immu...   \n",
       "7388   The coronavirus SARS-CoV-2 was identified as t...   \n",
       "\n",
       "                      labels  \n",
       "7224   [0, 0, 1, 0, 0, 0, 0]  \n",
       "11111  [0, 0, 0, 0, 1, 0, 0]  \n",
       "5201   [0, 0, 0, 0, 1, 0, 0]  \n",
       "16642  [0, 0, 0, 0, 1, 0, 0]  \n",
       "7388   [0, 1, 0, 1, 0, 0, 1]  "
      ]
     },
     "execution_count": 13,
     "metadata": {},
     "output_type": "execute_result"
    }
   ],
   "source": [
    "test.head()"
   ]
  },
  {
   "cell_type": "code",
   "execution_count": 14,
   "metadata": {
    "id": "CGm0FcvY6WFo"
   },
   "outputs": [],
   "source": [
    "from sklearn.metrics import accuracy_score"
   ]
  },
  {
   "cell_type": "code",
   "execution_count": 15,
   "metadata": {
    "id": "JafPy6l0FMNe"
   },
   "outputs": [],
   "source": [
    "def weighted_f1(labels, preds, threshold=0.5):\n",
    "    \"\"\" \n",
    "    Converts probabilities to labels using the [threshold] and calculates metrics. \n",
    "    Parameters ---------- labels preds threshold \n",
    "    Returns ------- \n",
    "    \"\"\" \n",
    "\n",
    "    preds[preds > threshold] = 1\n",
    "    preds[preds <= threshold] = 0 \n",
    "\n",
    "    scores = f1_score(labels, preds, average='weighted') \n",
    "    print(scores)\n",
    "    return scores"
   ]
  },
  {
   "cell_type": "code",
   "execution_count": 16,
   "metadata": {
    "id": "ce4e04af-9e03-43d2-86dc-82d660106ac7"
   },
   "outputs": [],
   "source": [
    "model_args = MultiLabelClassificationArgs(num_train_epochs=3,\n",
    "                                          evaluate_during_training=True, \n",
    "                                          evaluate_each_epoch = True,\n",
    "                                          overwrite_output_dir= True,\n",
    "                                          train_batch_size=4\n",
    "                                          )"
   ]
  },
  {
   "cell_type": "code",
   "execution_count": 17,
   "metadata": {
    "colab": {
     "base_uri": "https://localhost:8080/",
     "height": 284,
     "referenced_widgets": [
      "763942a057ac4000af159054f3f7914f",
      "cb11287670564a90a6e8a2196c890386",
      "69a95f7b0452409dbf2171ac7bad56e9",
      "5022fe6fd8f74537a7f70ccc1b564484",
      "6a88d0a3b931446d8879f4d34bf615ba",
      "2880db0754fe4c168ed162b11f2cc881",
      "dc4a2002d5b54ef79b0b9a2c1c6b9ce8",
      "9b00a1ebbeb3448fa0929b15039c9ada",
      "b24ccf557c14489988b8c49d230557e4",
      "11b229792a83430dbc3e7f74b976e46f",
      "017ee7fa2ef54f4faf24ac2d855c4726",
      "65b52e7a6fc34bbb85f78261b1c5b8a3",
      "b4c3e20a241d4e3796d311f8e7a41001",
      "2299baf1560e4e148c6b7adcca3b882e",
      "49a70a012af549a9b25beebc0ce61766"
     ]
    },
    "id": "ffb85a3d-ff1d-499f-9322-cc8bab1b6937",
    "outputId": "b32af238-921c-4c17-8f58-06e7e7a32cca"
   },
   "outputs": [
    {
     "name": "stderr",
     "output_type": "stream",
     "text": [
      "Some weights of the model checkpoint at bert-base-uncased were not used when initializing BertForMultiLabelSequenceClassification: ['cls.predictions.transform.dense.bias', 'cls.seq_relationship.weight', 'cls.seq_relationship.bias', 'cls.predictions.transform.LayerNorm.bias', 'cls.predictions.transform.dense.weight', 'cls.predictions.bias', 'cls.predictions.decoder.weight', 'cls.predictions.transform.LayerNorm.weight']\n",
      "- This IS expected if you are initializing BertForMultiLabelSequenceClassification from the checkpoint of a model trained on another task or with another architecture (e.g. initializing a BertForSequenceClassification model from a BertForPreTraining model).\n",
      "- This IS NOT expected if you are initializing BertForMultiLabelSequenceClassification from the checkpoint of a model that you expect to be exactly identical (initializing a BertForSequenceClassification model from a BertForSequenceClassification model).\n",
      "Some weights of BertForMultiLabelSequenceClassification were not initialized from the model checkpoint at bert-base-uncased and are newly initialized: ['classifier.weight', 'classifier.bias']\n",
      "You should probably TRAIN this model on a down-stream task to be able to use it for predictions and inference.\n"
     ]
    }
   ],
   "source": [
    "model = MultiLabelClassificationModel(\n",
    "    \"bert\",\n",
    "    \"bert-base-uncased\",\n",
    "    num_labels=7,\n",
    "    use_cuda=False,\n",
    "    args=model_args,\n",
    ")"
   ]
  },
  {
   "cell_type": "code",
   "execution_count": 19,
   "metadata": {
    "colab": {
     "base_uri": "https://localhost:8080/",
     "height": 1000,
     "referenced_widgets": [
      "27df269f80274b95ae2bc3bbf8c13080",
      "9f843191754445aea535a36fb77c92ce",
      "a7625a05e7024576afae5cf2ba457596",
      "b093951d13cb46a88130098088ca040a",
      "6db2a2e942b64383bbfad55ac55a0627",
      "296803a449eb4f609f709d3069c56f18",
      "56ebe3ee9fdd4bc3ab5480a81bf61b8d",
      "90934421d60e4a77bdd1dc6d3de9a1f4",
      "cbb33de736df4643844481487e142ee1",
      "5d30afbbd40b43909067f8a057328468",
      "7f1fc74d989944debc73276c174562d0",
      "3a00603691b34248a6c55d5ff577852d",
      "ddb0aa46bb9e46cb8e69971de0a9a940",
      "598715553be046a7a99b4058f4634ac0",
      "0db3d348e24948e8a8134b7644b4952a",
      "c249b6e513604ecbbc7612a4e6756c1e",
      "e9af299c2a274516afbb359e7990b3dd",
      "0eba3c017fc54694938c9e8d54d08b6e",
      "57096e57cae6413891fa2a338751869e",
      "69ba8835ce4a4926ab67bb2442f9429b",
      "37393c57de1e4d4986177630d7698722",
      "205b7045c05b49ed809ae8b1d4ec1564",
      "fd9a78affc3743a5b53c5c8efccc061b",
      "6d6e24c1718047aaa4b2d9acb8f45e89",
      "efc7dc5a151a46a385c1e4121f2e5f65",
      "869eeaeebb38457eaf84660a2c2b7501"
     ]
    },
    "id": "b595611f-eee1-4dda-9382-0b488942ed35",
    "outputId": "49c780cf-e4c4-40f1-b533-74d9fa8c1e80"
   },
   "outputs": [
    {
     "name": "stderr",
     "output_type": "stream",
     "text": [
      "  0%|          | 0/2000 [00:00<?, ?it/s]"
     ]
    }
   ],
   "source": [
    "model.train_model(train.head(2000),eval_df=test.head(), f1=weighted_f1)"
   ]
  },
  {
   "cell_type": "code",
   "execution_count": 21,
   "metadata": {
    "colab": {
     "background_save": true
    },
    "id": "ea748e16-3086-4ef9-97b8-25ad541faae5"
   },
   "outputs": [
    {
     "name": "stderr",
     "output_type": "stream",
     "text": [
      "  0%|          | 2/1000 [00:04<41:06,  2.47s/it]  \n",
      "Running Evaluation: 100%|██████████| 125/125 [01:09<00:00,  1.80it/s]\n"
     ]
    }
   ],
   "source": [
    "result, model_outputs, wrong_predictions = model.eval_model(test,f1=weighted_f1)"
   ]
  },
  {
   "cell_type": "code",
   "execution_count": 16,
   "metadata": {
    "colab": {
     "background_save": true
    },
    "id": "YZA65xPY9388"
   },
   "outputs": [
    {
     "name": "stderr",
     "output_type": "stream",
     "text": [
      "Some weights of the model checkpoint at bert-base-uncased were not used when initializing BertForMultiLabelSequenceClassification: ['cls.seq_relationship.weight', 'cls.predictions.decoder.weight', 'cls.predictions.transform.dense.bias', 'cls.predictions.transform.dense.weight', 'cls.predictions.transform.LayerNorm.weight', 'cls.predictions.bias', 'cls.seq_relationship.bias', 'cls.predictions.transform.LayerNorm.bias']\n",
      "- This IS expected if you are initializing BertForMultiLabelSequenceClassification from the checkpoint of a model trained on another task or with another architecture (e.g. initializing a BertForSequenceClassification model from a BertForPreTraining model).\n",
      "- This IS NOT expected if you are initializing BertForMultiLabelSequenceClassification from the checkpoint of a model that you expect to be exactly identical (initializing a BertForSequenceClassification model from a BertForSequenceClassification model).\n",
      "Some weights of BertForMultiLabelSequenceClassification were not initialized from the model checkpoint at bert-base-uncased and are newly initialized: ['classifier.bias', 'classifier.weight']\n",
      "You should probably TRAIN this model on a down-stream task to be able to use it for predictions and inference.\n"
     ]
    }
   ],
   "source": [
    "model_args_full = MultiLabelClassificationArgs(num_train_epochs=3,\n",
    "                                        #   evaluate_during_training=True, \n",
    "                                          evaluate_each_epoch = True,\n",
    "                                          overwrite_output_dir= True,\n",
    "                                          output_dir='all_100epoch'\n",
    "                                          )\n",
    "\n",
    "model_full = MultiLabelClassificationModel(\n",
    "    \"bert\",\n",
    "    \"bert-base-uncased\",\n",
    "    num_labels=7,\n",
    "    use_cuda=True,\n",
    "    args=model_args_full,\n",
    ")"
   ]
  },
  {
   "cell_type": "code",
   "execution_count": 17,
   "metadata": {
    "colab": {
     "background_save": true
    },
    "id": "aURTgh9d-Cc_"
   },
   "outputs": [
    {
     "name": "stderr",
     "output_type": "stream",
     "text": [
      "  0%|          | 1/2000 [00:04<2:45:31,  4.97s/it]"
     ]
    }
   ],
   "source": [
    "model_full.train_model(train_df=train.head(2000),eval_df=test,f1=weighted_f1)"
   ]
  },
  {
   "cell_type": "code",
   "execution_count": 25,
   "metadata": {
    "colab": {
     "background_save": true
    },
    "id": "7mlrcVNU-EdD"
   },
   "outputs": [
    {
     "data": {
      "text/plain": [
       "[[[0, 0, 0, 0, 1, 0, 0],\n",
       "  [0, 1, 0, 0, 0, 0, 1],\n",
       "  [1, 0, 0, 0, 0, 0, 0],\n",
       "  [0, 0, 0, 0, 1, 0, 0],\n",
       "  [0, 1, 0, 0, 0, 0, 0]]]"
      ]
     },
     "execution_count": 25,
     "metadata": {},
     "output_type": "execute_result"
    }
   ],
   "source": [
    "wrong_predictions"
   ]
  },
  {
   "cell_type": "code",
   "execution_count": null,
   "metadata": {
    "colab": {
     "background_save": true
    },
    "id": "kbr1fc3MDq0R"
   },
   "outputs": [],
   "source": [
    "model =  MultiLabelClassificationModel(\n",
    "    \"bert\",\n",
    "    'outputs',\n",
    "    num_labels=7,\n",
    "    use_cuda=False,\n",
    "    args=model_args,\n",
    ")"
   ]
  },
  {
   "cell_type": "code",
   "execution_count": null,
   "metadata": {
    "colab": {
     "background_save": true
    },
    "id": "VDmz412_EAjx"
   },
   "outputs": [],
   "source": []
  }
 ],
 "metadata": {
  "accelerator": "GPU",
  "colab": {
   "collapsed_sections": [],
   "name": "Baseline.ipynb",
   "provenance": []
  },
  "interpreter": {
   "hash": "4075595ffcf76b6a2ce9721aa897b8612cee89dfb18a3ef9e70c4d2bb1cb64b3"
  },
  "kernelspec": {
   "display_name": "Python 3.9.6 64-bit",
   "name": "python3"
  },
  "language_info": {
   "codemirror_mode": {
    "name": "ipython",
    "version": 3
   },
   "file_extension": ".py",
   "mimetype": "text/x-python",
   "name": "python",
   "nbconvert_exporter": "python",
   "pygments_lexer": "ipython3",
   "version": "3.9.6"
  },
  "widgets": {
   "application/vnd.jupyter.widget-state+json": {
    "017ee7fa2ef54f4faf24ac2d855c4726": {
     "model_module": "@jupyter-widgets/base",
     "model_module_version": "1.2.0",
     "model_name": "LayoutModel",
     "state": {
      "_model_module": "@jupyter-widgets/base",
      "_model_module_version": "1.2.0",
      "_model_name": "LayoutModel",
      "_view_count": null,
      "_view_module": "@jupyter-widgets/base",
      "_view_module_version": "1.2.0",
      "_view_name": "LayoutView",
      "align_content": null,
      "align_items": null,
      "align_self": null,
      "border": null,
      "bottom": null,
      "display": null,
      "flex": null,
      "flex_flow": null,
      "grid_area": null,
      "grid_auto_columns": null,
      "grid_auto_flow": null,
      "grid_auto_rows": null,
      "grid_column": null,
      "grid_gap": null,
      "grid_row": null,
      "grid_template_areas": null,
      "grid_template_columns": null,
      "grid_template_rows": null,
      "height": null,
      "justify_content": null,
      "justify_items": null,
      "left": null,
      "margin": null,
      "max_height": null,
      "max_width": null,
      "min_height": null,
      "min_width": null,
      "object_fit": null,
      "object_position": null,
      "order": null,
      "overflow": null,
      "overflow_x": null,
      "overflow_y": null,
      "padding": null,
      "right": null,
      "top": null,
      "visibility": null,
      "width": null
     }
    },
    "11b229792a83430dbc3e7f74b976e46f": {
     "model_module": "@jupyter-widgets/controls",
     "model_module_version": "1.5.0",
     "model_name": "DescriptionStyleModel",
     "state": {
      "_model_module": "@jupyter-widgets/controls",
      "_model_module_version": "1.5.0",
      "_model_name": "DescriptionStyleModel",
      "_view_count": null,
      "_view_module": "@jupyter-widgets/base",
      "_view_module_version": "1.2.0",
      "_view_name": "StyleView",
      "description_width": ""
     }
    },
    "2880db0754fe4c168ed162b11f2cc881": {
     "model_module": "@jupyter-widgets/controls",
     "model_module_version": "1.5.0",
     "model_name": "DescriptionStyleModel",
     "state": {
      "_model_module": "@jupyter-widgets/controls",
      "_model_module_version": "1.5.0",
      "_model_name": "DescriptionStyleModel",
      "_view_count": null,
      "_view_module": "@jupyter-widgets/base",
      "_view_module_version": "1.2.0",
      "_view_name": "StyleView",
      "description_width": ""
     }
    },
    "5022fe6fd8f74537a7f70ccc1b564484": {
     "model_module": "@jupyter-widgets/controls",
     "model_module_version": "1.5.0",
     "model_name": "FloatProgressModel",
     "state": {
      "_dom_classes": [],
      "_model_module": "@jupyter-widgets/controls",
      "_model_module_version": "1.5.0",
      "_model_name": "FloatProgressModel",
      "_view_count": null,
      "_view_module": "@jupyter-widgets/controls",
      "_view_module_version": "1.5.0",
      "_view_name": "ProgressView",
      "bar_style": "success",
      "description": "",
      "description_tooltip": null,
      "layout": "IPY_MODEL_b24ccf557c14489988b8c49d230557e4",
      "max": 570,
      "min": 0,
      "orientation": "horizontal",
      "style": "IPY_MODEL_9b00a1ebbeb3448fa0929b15039c9ada",
      "value": 570
     }
    },
    "69a95f7b0452409dbf2171ac7bad56e9": {
     "model_module": "@jupyter-widgets/controls",
     "model_module_version": "1.5.0",
     "model_name": "HTMLModel",
     "state": {
      "_dom_classes": [],
      "_model_module": "@jupyter-widgets/controls",
      "_model_module_version": "1.5.0",
      "_model_name": "HTMLModel",
      "_view_count": null,
      "_view_module": "@jupyter-widgets/controls",
      "_view_module_version": "1.5.0",
      "_view_name": "HTMLView",
      "description": "",
      "description_tooltip": null,
      "layout": "IPY_MODEL_dc4a2002d5b54ef79b0b9a2c1c6b9ce8",
      "placeholder": "​",
      "style": "IPY_MODEL_2880db0754fe4c168ed162b11f2cc881",
      "value": "Downloading: 100%"
     }
    },
    "6a88d0a3b931446d8879f4d34bf615ba": {
     "model_module": "@jupyter-widgets/controls",
     "model_module_version": "1.5.0",
     "model_name": "HTMLModel",
     "state": {
      "_dom_classes": [],
      "_model_module": "@jupyter-widgets/controls",
      "_model_module_version": "1.5.0",
      "_model_name": "HTMLModel",
      "_view_count": null,
      "_view_module": "@jupyter-widgets/controls",
      "_view_module_version": "1.5.0",
      "_view_name": "HTMLView",
      "description": "",
      "description_tooltip": null,
      "layout": "IPY_MODEL_017ee7fa2ef54f4faf24ac2d855c4726",
      "placeholder": "​",
      "style": "IPY_MODEL_11b229792a83430dbc3e7f74b976e46f",
      "value": " 570/570 [00:00&lt;00:00, 12.5kB/s]"
     }
    },
    "763942a057ac4000af159054f3f7914f": {
     "model_module": "@jupyter-widgets/controls",
     "model_module_version": "1.5.0",
     "model_name": "HBoxModel",
     "state": {
      "_dom_classes": [],
      "_model_module": "@jupyter-widgets/controls",
      "_model_module_version": "1.5.0",
      "_model_name": "HBoxModel",
      "_view_count": null,
      "_view_module": "@jupyter-widgets/controls",
      "_view_module_version": "1.5.0",
      "_view_name": "HBoxView",
      "box_style": "",
      "children": [
       "IPY_MODEL_69a95f7b0452409dbf2171ac7bad56e9",
       "IPY_MODEL_5022fe6fd8f74537a7f70ccc1b564484",
       "IPY_MODEL_6a88d0a3b931446d8879f4d34bf615ba"
      ],
      "layout": "IPY_MODEL_cb11287670564a90a6e8a2196c890386"
     }
    },
    "9b00a1ebbeb3448fa0929b15039c9ada": {
     "model_module": "@jupyter-widgets/controls",
     "model_module_version": "1.5.0",
     "model_name": "ProgressStyleModel",
     "state": {
      "_model_module": "@jupyter-widgets/controls",
      "_model_module_version": "1.5.0",
      "_model_name": "ProgressStyleModel",
      "_view_count": null,
      "_view_module": "@jupyter-widgets/base",
      "_view_module_version": "1.2.0",
      "_view_name": "StyleView",
      "bar_color": null,
      "description_width": ""
     }
    },
    "b24ccf557c14489988b8c49d230557e4": {
     "model_module": "@jupyter-widgets/base",
     "model_module_version": "1.2.0",
     "model_name": "LayoutModel",
     "state": {
      "_model_module": "@jupyter-widgets/base",
      "_model_module_version": "1.2.0",
      "_model_name": "LayoutModel",
      "_view_count": null,
      "_view_module": "@jupyter-widgets/base",
      "_view_module_version": "1.2.0",
      "_view_name": "LayoutView",
      "align_content": null,
      "align_items": null,
      "align_self": null,
      "border": null,
      "bottom": null,
      "display": null,
      "flex": null,
      "flex_flow": null,
      "grid_area": null,
      "grid_auto_columns": null,
      "grid_auto_flow": null,
      "grid_auto_rows": null,
      "grid_column": null,
      "grid_gap": null,
      "grid_row": null,
      "grid_template_areas": null,
      "grid_template_columns": null,
      "grid_template_rows": null,
      "height": null,
      "justify_content": null,
      "justify_items": null,
      "left": null,
      "margin": null,
      "max_height": null,
      "max_width": null,
      "min_height": null,
      "min_width": null,
      "object_fit": null,
      "object_position": null,
      "order": null,
      "overflow": null,
      "overflow_x": null,
      "overflow_y": null,
      "padding": null,
      "right": null,
      "top": null,
      "visibility": null,
      "width": null
     }
    },
    "cb11287670564a90a6e8a2196c890386": {
     "model_module": "@jupyter-widgets/base",
     "model_module_version": "1.2.0",
     "model_name": "LayoutModel",
     "state": {
      "_model_module": "@jupyter-widgets/base",
      "_model_module_version": "1.2.0",
      "_model_name": "LayoutModel",
      "_view_count": null,
      "_view_module": "@jupyter-widgets/base",
      "_view_module_version": "1.2.0",
      "_view_name": "LayoutView",
      "align_content": null,
      "align_items": null,
      "align_self": null,
      "border": null,
      "bottom": null,
      "display": null,
      "flex": null,
      "flex_flow": null,
      "grid_area": null,
      "grid_auto_columns": null,
      "grid_auto_flow": null,
      "grid_auto_rows": null,
      "grid_column": null,
      "grid_gap": null,
      "grid_row": null,
      "grid_template_areas": null,
      "grid_template_columns": null,
      "grid_template_rows": null,
      "height": null,
      "justify_content": null,
      "justify_items": null,
      "left": null,
      "margin": null,
      "max_height": null,
      "max_width": null,
      "min_height": null,
      "min_width": null,
      "object_fit": null,
      "object_position": null,
      "order": null,
      "overflow": null,
      "overflow_x": null,
      "overflow_y": null,
      "padding": null,
      "right": null,
      "top": null,
      "visibility": null,
      "width": null
     }
    },
    "dc4a2002d5b54ef79b0b9a2c1c6b9ce8": {
     "model_module": "@jupyter-widgets/base",
     "model_module_version": "1.2.0",
     "model_name": "LayoutModel",
     "state": {
      "_model_module": "@jupyter-widgets/base",
      "_model_module_version": "1.2.0",
      "_model_name": "LayoutModel",
      "_view_count": null,
      "_view_module": "@jupyter-widgets/base",
      "_view_module_version": "1.2.0",
      "_view_name": "LayoutView",
      "align_content": null,
      "align_items": null,
      "align_self": null,
      "border": null,
      "bottom": null,
      "display": null,
      "flex": null,
      "flex_flow": null,
      "grid_area": null,
      "grid_auto_columns": null,
      "grid_auto_flow": null,
      "grid_auto_rows": null,
      "grid_column": null,
      "grid_gap": null,
      "grid_row": null,
      "grid_template_areas": null,
      "grid_template_columns": null,
      "grid_template_rows": null,
      "height": null,
      "justify_content": null,
      "justify_items": null,
      "left": null,
      "margin": null,
      "max_height": null,
      "max_width": null,
      "min_height": null,
      "min_width": null,
      "object_fit": null,
      "object_position": null,
      "order": null,
      "overflow": null,
      "overflow_x": null,
      "overflow_y": null,
      "padding": null,
      "right": null,
      "top": null,
      "visibility": null,
      "width": null
     }
    }
   }
  }
 },
 "nbformat": 4,
 "nbformat_minor": 5
}
